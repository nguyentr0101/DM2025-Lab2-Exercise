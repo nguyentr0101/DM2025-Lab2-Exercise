{
 "cells": [
  {
   "cell_type": "markdown",
   "metadata": {},
   "source": [
    "**Table of contents**<a id='toc0_'></a>    \n",
    "- [Data Mining Lab 2 - Phase 1](#toc1_)    \n",
    "  - [Summarized Table of Contents](#toc1_1_)    \n",
    "  - [Before Starting](#toc1_2_)    \n",
    "  - [Introduction](#toc1_3_)    \n",
    "  - [**1. Data Preparation**](#toc1_4_)    \n",
    "  - [**1.1 Load data**](#toc1_5_)    \n",
    "        - [**>>> Exercise 1 (Take home):**](#toc1_5_1_1_1_)    \n",
    "    - [**1.2 Save data**](#toc1_5_2_)    \n",
    "    - [**1.3 Exploratory data analysis (EDA)**](#toc1_5_3_)    \n",
    "  - [**2. Feature engineering**](#toc1_6_)    \n",
    "    - [Using Bag of Words](#toc1_6_1_)    \n",
    "        - [**>>> Exercise 2 (Take home):**](#toc1_6_1_1_1_)    \n",
    "  - [**3. Model**](#toc1_7_)    \n",
    "    - [**3.1 Decision Trees**](#toc1_7_1_)    \n",
    "  - [**4. Results Evaluation**](#toc1_8_)    \n",
    "        - [**>>> Exercise 3 (Take home):**](#toc1_8_1_1_1_)    \n",
    "        - [**>>> Exercise 4 (Take home):**](#toc1_8_1_1_2_)    \n",
    "        - [**>>> Exercise 5 (Take home):**](#toc1_8_1_1_3_)    \n",
    "  - [**5. Other things you can try**](#toc1_9_)    \n",
    "  - [**6. Deep Learning**](#toc1_10_)    \n",
    "    - [**6.1 Prepare data (X, y)**](#toc1_10_1_)    \n",
    "    - [**6.2 Deal with categorical label (y)**](#toc1_10_2_)    \n",
    "    - [**6.3 Build model**](#toc1_10_3_)    \n",
    "    - [**6.4 Train**](#toc1_10_4_)    \n",
    "    - [**6.5 Predict on testing data**](#toc1_10_5_)    \n",
    "        - [**>>> Exercise 6 (Take home):**](#toc1_10_5_1_1_)    \n",
    "    - [Note](#toc1_10_6_)    \n",
    "    - [More Information for your reference](#toc1_10_7_)    \n",
    "  - [**7. Word2Vector**](#toc1_11_)    \n",
    "    - [**7.1 Prepare training corpus**](#toc1_11_1_)    \n",
    "    - [**7.2 Training our model**](#toc1_11_2_)    \n",
    "    - [**7.3 Generating word vector (embeddings)**](#toc1_11_3_)    \n",
    "    - [**7.4 Using a pre-trained w2v model**](#toc1_11_4_)    \n",
    "      - [(1) Download model by yourself](#toc1_11_4_1_)    \n",
    "      - [(2) Using gensim api](#toc1_11_4_2_)    \n",
    "    - [**7.5 king + woman - man = ?**](#toc1_11_5_)    \n",
    "        - [**>>> Exercise 7 (Take home):**](#toc1_11_5_1_1_)    \n",
    "  - [**8. Clustering: k-means**](#toc1_12_)    \n",
    "      - [Basic concept](#toc1_12_1_1_)    \n",
    "  - [**9. High-dimension Visualization: t-SNE and UMAP**](#toc1_13_)    \n",
    "    - [**9.1 Prepare visualizing target**](#toc1_13_1_)    \n",
    "    - [**9.2 Plot using t-SNE and UMAP (2-dimension)**](#toc1_13_2_)    \n",
    "        - [**>>> Exercise 8 (Take home):**](#toc1_13_2_1_1_)    \n",
    "\n",
    "<!-- vscode-jupyter-toc-config\n",
    "\tnumbering=false\n",
    "\tanchor=true\n",
    "\tflat=false\n",
    "\tminLevel=1\n",
    "\tmaxLevel=6\n",
    "\t/vscode-jupyter-toc-config -->\n",
    "<!-- THIS CELL WILL BE REPLACED ON TOC UPDATE. DO NOT WRITE YOUR TEXT IN THIS CELL -->"
   ]
  },
  {
   "cell_type": "markdown",
   "metadata": {
    "id": "uuutyCx4YTpX"
   },
   "source": [
    "# <a id='toc1_'></a>[Data Mining Lab 2 - Phase 1](#toc0_)\n",
    "In this lab's phase 1 session we will focus on the use of Neural Word Embeddings\n",
    "\n",
    "## <a id='toc1_1_'></a>[Summarized Table of Contents](#toc0_)\n",
    "- **Phase 1:**\n",
    "1. Data preparation\n",
    "2. Feature engineering\n",
    "3. Model\n",
    "4. Results evaluation\n",
    "5. Other things you could try\n",
    "6. Deep Learning\n",
    "7. Word to Vector\n",
    "8. Clustering\n",
    "9. High-dimension Visualization\n"
   ]
  },
  {
   "cell_type": "markdown",
   "metadata": {},
   "source": [
    "## <a id='toc1_2_'></a>[Before Starting](#toc0_)\n",
    "\n",
    "**Make sure you have installed all the required libraries and you have the environment ready to run this lab.**\n",
    "    "
   ]
  },
  {
   "cell_type": "markdown",
   "metadata": {
    "id": "LIpAqCvMYTpX"
   },
   "source": [
    "---\n",
    "## <a id='toc1_3_'></a>[Introduction](#toc0_)"
   ]
  },
  {
   "cell_type": "markdown",
   "metadata": {
    "id": "n2paPeNbYTpX"
   },
   "source": [
    "**Dataset:** [SemEval 2017 Task](https://competitions.codalab.org/competitions/16380)\n",
    "\n",
    "**Task:** Classify text data into 4 different emotions using word embeddings and other deep information retrieval approaches.\n",
    "\n",
    "![pic0.png](./pics/pic0.png)"
   ]
  },
  {
   "cell_type": "markdown",
   "metadata": {
    "id": "op_X7pR-YTpX"
   },
   "source": [
    "---\n",
    "## <a id='toc1_4_'></a>[**1. Data Preparation**](#toc0_)"
   ]
  },
  {
   "cell_type": "markdown",
   "metadata": {
    "id": "ID-8I1ELYTpX"
   },
   "source": [
    "Before beggining the lab, please make sure to download the [Google News Dataset](https://drive.google.com/file/d/0B7XkCwpI5KDYNlNUTTlSS21pQmM/edit) and place it in a folder named \"GoogleNews\" in the same directory as this file."
   ]
  },
  {
   "cell_type": "markdown",
   "metadata": {
    "id": "pgoEbZzSYTpX"
   },
   "source": [
    "---\n",
    "## <a id='toc1_5_'></a>[**1.1 Load data**](#toc0_)\n",
    "\n",
    "We start by loading the csv files into a single pandas dataframe for training and one for testing."
   ]
  },
  {
   "cell_type": "code",
   "metadata": {
    "id": "anfjcPSSYTpX",
    "ExecuteTime": {
     "end_time": "2025-10-28T12:30:31.369124Z",
     "start_time": "2025-10-28T12:30:31.191253Z"
    }
   },
   "source": [
    "import pandas as pd\n",
    "\n",
    "### training data\n",
    "anger_train = pd.read_csv(\"data/semeval/train/anger-ratings-0to1.train.txt\",\n",
    "                         sep=\"\\t\", header=None,names=[\"id\", \"text\", \"emotion\", \"intensity\"])\n",
    "sadness_train = pd.read_csv(\"data/semeval/train/sadness-ratings-0to1.train.txt\",\n",
    "                         sep=\"\\t\", header=None, names=[\"id\", \"text\", \"emotion\", \"intensity\"])\n",
    "fear_train = pd.read_csv(\"data/semeval/train/fear-ratings-0to1.train.txt\",\n",
    "                         sep=\"\\t\", header=None, names=[\"id\", \"text\", \"emotion\", \"intensity\"])\n",
    "joy_train = pd.read_csv(\"data/semeval/train/joy-ratings-0to1.train.txt\",\n",
    "                         sep=\"\\t\", header=None, names=[\"id\", \"text\", \"emotion\", \"intensity\"])"
   ],
   "outputs": [],
   "execution_count": 1
  },
  {
   "cell_type": "code",
   "metadata": {
    "id": "yVc2T5MIYTpX",
    "ExecuteTime": {
     "end_time": "2025-10-28T12:30:31.397212Z",
     "start_time": "2025-10-28T12:30:31.390066Z"
    }
   },
   "source": [
    "# combine 4 sub-dataset\n",
    "train_df = pd.concat([anger_train, fear_train, joy_train, sadness_train], ignore_index=True)"
   ],
   "outputs": [],
   "execution_count": 2
  },
  {
   "cell_type": "code",
   "metadata": {
    "colab": {
     "base_uri": "https://localhost:8080/",
     "height": 206
    },
    "id": "Kw8bGMv7YTpX",
    "outputId": "9f6f7052-302e-4794-ef69-b84450b61b36",
    "ExecuteTime": {
     "end_time": "2025-10-28T12:30:31.446929Z",
     "start_time": "2025-10-28T12:30:31.412192Z"
    }
   },
   "source": [
    "### testing data\n",
    "anger_test = pd.read_csv(\"data/semeval/dev/anger-ratings-0to1.dev.gold.txt\",\n",
    "                         sep=\"\\t\", header=None, names=[\"id\", \"text\", \"emotion\", \"intensity\"])\n",
    "sadness_test = pd.read_csv(\"data/semeval/dev/sadness-ratings-0to1.dev.gold.txt\",\n",
    "                         sep=\"\\t\", header=None, names=[\"id\", \"text\", \"emotion\", \"intensity\"])\n",
    "fear_test = pd.read_csv(\"data/semeval/dev/fear-ratings-0to1.dev.gold.txt\",\n",
    "                         sep=\"\\t\", header=None, names=[\"id\", \"text\", \"emotion\", \"intensity\"])\n",
    "joy_test = pd.read_csv(\"data/semeval/dev/joy-ratings-0to1.dev.gold.txt\",\n",
    "                         sep=\"\\t\", header=None, names=[\"id\", \"text\", \"emotion\", \"intensity\"])\n",
    "\n",
    "# combine 4 sub-dataset\n",
    "test_df = pd.concat([anger_test, fear_test, joy_test, sadness_test], ignore_index=True)\n",
    "train_df.head()"
   ],
   "outputs": [
    {
     "data": {
      "text/plain": [
       "      id                                               text emotion  intensity\n",
       "0  10000  How the fu*k! Who the heck! moved my fridge!.....   anger      0.938\n",
       "1  10001  So my Indian Uber driver just called someone t...   anger      0.896\n",
       "2  10002  @DPD_UK I asked for my parcel to be delivered ...   anger      0.896\n",
       "3  10003  so ef whichever butt wipe pulled the fire alar...   anger      0.896\n",
       "4  10004  Don't join @BTCare they put the phone down on ...   anger      0.896"
      ],
      "text/html": [
       "<div>\n",
       "<style scoped>\n",
       "    .dataframe tbody tr th:only-of-type {\n",
       "        vertical-align: middle;\n",
       "    }\n",
       "\n",
       "    .dataframe tbody tr th {\n",
       "        vertical-align: top;\n",
       "    }\n",
       "\n",
       "    .dataframe thead th {\n",
       "        text-align: right;\n",
       "    }\n",
       "</style>\n",
       "<table border=\"1\" class=\"dataframe\">\n",
       "  <thead>\n",
       "    <tr style=\"text-align: right;\">\n",
       "      <th></th>\n",
       "      <th>id</th>\n",
       "      <th>text</th>\n",
       "      <th>emotion</th>\n",
       "      <th>intensity</th>\n",
       "    </tr>\n",
       "  </thead>\n",
       "  <tbody>\n",
       "    <tr>\n",
       "      <th>0</th>\n",
       "      <td>10000</td>\n",
       "      <td>How the fu*k! Who the heck! moved my fridge!.....</td>\n",
       "      <td>anger</td>\n",
       "      <td>0.938</td>\n",
       "    </tr>\n",
       "    <tr>\n",
       "      <th>1</th>\n",
       "      <td>10001</td>\n",
       "      <td>So my Indian Uber driver just called someone t...</td>\n",
       "      <td>anger</td>\n",
       "      <td>0.896</td>\n",
       "    </tr>\n",
       "    <tr>\n",
       "      <th>2</th>\n",
       "      <td>10002</td>\n",
       "      <td>@DPD_UK I asked for my parcel to be delivered ...</td>\n",
       "      <td>anger</td>\n",
       "      <td>0.896</td>\n",
       "    </tr>\n",
       "    <tr>\n",
       "      <th>3</th>\n",
       "      <td>10003</td>\n",
       "      <td>so ef whichever butt wipe pulled the fire alar...</td>\n",
       "      <td>anger</td>\n",
       "      <td>0.896</td>\n",
       "    </tr>\n",
       "    <tr>\n",
       "      <th>4</th>\n",
       "      <td>10004</td>\n",
       "      <td>Don't join @BTCare they put the phone down on ...</td>\n",
       "      <td>anger</td>\n",
       "      <td>0.896</td>\n",
       "    </tr>\n",
       "  </tbody>\n",
       "</table>\n",
       "</div>"
      ]
     },
     "execution_count": 3,
     "metadata": {},
     "output_type": "execute_result"
    }
   ],
   "execution_count": 3
  },
  {
   "cell_type": "code",
   "metadata": {
    "id": "HBHwcL8sYTpX",
    "ExecuteTime": {
     "end_time": "2025-10-28T12:30:33.198718Z",
     "start_time": "2025-10-28T12:30:31.508767Z"
    }
   },
   "source": [
    "# shuffle dataset\n",
    "train_df = train_df.sample(frac=1)\n",
    "train_df.to_excel(\"train_df.xlsx\", index=False)\n",
    "test_df.to_excel(\"test_df.xlsx\")\n",
    "test_df = test_df.sample(frac=1)"
   ],
   "outputs": [],
   "execution_count": 4
  },
  {
   "cell_type": "code",
   "metadata": {
    "colab": {
     "base_uri": "https://localhost:8080/"
    },
    "id": "9w_cDUwCYTpX",
    "outputId": "3582ac44-1f5f-4cb2-b833-d477f152461a",
    "scrolled": true,
    "ExecuteTime": {
     "end_time": "2025-10-28T12:30:33.522212Z",
     "start_time": "2025-10-28T12:30:33.502905Z"
    }
   },
   "source": [
    "print(\"Shape of Training df: \", train_df.shape)\n",
    "print(\"Shape of Testing df: \", test_df.shape)"
   ],
   "outputs": [
    {
     "name": "stdout",
     "output_type": "stream",
     "text": [
      "Shape of Training df:  (3613, 4)\n",
      "Shape of Testing df:  (347, 4)\n"
     ]
    }
   ],
   "execution_count": 5
  },
  {
   "cell_type": "markdown",
   "metadata": {
    "id": "escCgU1zYTpX"
   },
   "source": [
    "---\n",
    "##### <a id='toc1_5_1_1_1_'></a>[**>>> Exercise 1 (Take home):**](#toc0_)\n",
    "Plot word frequency for Top 30 words in both train and test dataset. (Hint: refer to DM lab 1)\n"
   ]
  },
  {
   "cell_type": "code",
   "metadata": {
    "id": "HoXjet3pYTpo",
    "ExecuteTime": {
     "end_time": "2025-10-28T12:30:35.330795Z",
     "start_time": "2025-10-28T12:30:33.639896Z"
    }
   },
   "source": [
    "# Answer here\n",
    "import numpy as np\n",
    "import pandas as pd\n",
    "import matplotlib.pyplot as plt\n",
    "from sklearn.feature_extraction.text import CountVectorizer\n",
    "\n",
    "def plot_top_words(df, topk=30):\n",
    "    # Vectorize\n",
    "    vect = CountVectorizer(\n",
    "        lowercase=True,\n",
    "        stop_words='english',\n",
    "        token_pattern=r'(?u)\\b[a-zA-Z]{2,}\\b'\n",
    "    )\n",
    "    X = vect.fit_transform(df['text'].fillna('').astype(str))\n",
    "    # Sum frequencies\n",
    "    # Sum frequencies\n",
    "    freqs = np.asarray(X.sum(axis=0)).ravel()\n",
    "    vocab = vect.get_feature_names_out()\n",
    "    # Pick top-k\n",
    "    idx = np.argsort(-freqs)[:topk]\n",
    "    top_df = pd.DataFrame({'word': vocab[idx], 'count': freqs[idx]})\n",
    "    # Plot\n",
    "    plt.figure(figsize=(10, 6))\n",
    "    plt.bar(top_df['word'], top_df['count'])\n",
    "    plt.title(f'Top {topk} Word Frequencies in Training Data')\n",
    "    plt.ylabel('Count')\n",
    "    plt.xticks(rotation=60, ha='right')\n",
    "    plt.tight_layout()\n",
    "    plt.show()\n",
    "    return top_df\n",
    "# Usage\n",
    "top30 = plot_top_words(train_df, topk=30)\n"
   ],
   "outputs": [
    {
     "data": {
      "text/plain": [
       "<Figure size 1000x600 with 1 Axes>"
      ],
      "image/png": "[encoded data removed]"
     },
     "metadata": {},
     "output_type": "display_data",
     "jetTransient": {
      "display_id": null
     }
    }
   ],
   "execution_count": 6
  },
  {
   "metadata": {
    "ExecuteTime": {
     "end_time": "2025-10-28T12:30:35.721298Z",
     "start_time": "2025-10-28T12:30:35.372687Z"
    }
   },
   "cell_type": "code",
   "source": [
    "def plot_top_words(df, topk=30):\n",
    "    # Vectorize\n",
    "    vect = CountVectorizer(\n",
    "        lowercase=True,\n",
    "        stop_words='english',\n",
    "        token_pattern=r'(?u)\\b[a-zA-Z]{2,}\\b'\n",
    "    )\n",
    "    X = vect.fit_transform(df['text'].fillna('').astype(str))\n",
    "    # Sum frequencies\n",
    "    # Sum frequencies\n",
    "    freqs = np.asarray(X.sum(axis=0)).ravel()\n",
    "    vocab = vect.get_feature_names_out()\n",
    "    # Pick top-k\n",
    "    idx = np.argsort(-freqs)[:topk]\n",
    "    top_df = pd.DataFrame({'word': vocab[idx], 'count': freqs[idx]})\n",
    "    # Plot\n",
    "    plt.figure(figsize=(10, 6))\n",
    "    plt.bar(top_df['word'], top_df['count'])\n",
    "    plt.title(f'Top {topk} Word Frequencies in Test Data')\n",
    "    plt.ylabel('Count')\n",
    "    plt.xticks(rotation=60, ha='right')\n",
    "    plt.tight_layout()\n",
    "    plt.show()\n",
    "    return top_df\n",
    "# Usage\n",
    "top30 = plot_top_words(test_df, topk=30)"
   ],
   "outputs": [
    {
     "data": {
      "text/plain": [
       "<Figure size 1000x600 with 1 Axes>"
      ],
      "image/png": "[encoded data removed]"
     },
     "metadata": {},
     "output_type": "display_data",
     "jetTransient": {
      "display_id": null
     }
    }
   ],
   "execution_count": 7
  },
  {
   "cell_type": "markdown",
   "metadata": {
    "id": "_hr8aKhlYTpo"
   },
   "source": [
    "---\n",
    "### <a id='toc1_5_2_'></a>[**1.2 Save data**](#toc0_)"
   ]
  },
  {
   "cell_type": "markdown",
   "metadata": {
    "id": "Zm6GF2VvYTpo"
   },
   "source": [
    "We will save our data in Pickle format. The pickle module implements binary protocols for serializing and de-serializing a Python object structure.   \n",
    "  \n",
    "Some advantages for using pickle structure:  \n",
    "* Because it stores the attribute type, it's more convenient for cross-platform use.  \n",
    "* When your data is huge, it could use less space to store also consume less loading time.   "
   ]
  },
  {
   "cell_type": "code",
   "metadata": {
    "id": "dZzepBdpYTpo",
    "ExecuteTime": {
     "end_time": "2025-10-28T12:30:35.738244Z",
     "start_time": "2025-10-28T12:30:35.732272Z"
    }
   },
   "source": [
    "# save to pickle file\n",
    "train_df.to_pickle(\"./data/train_df.pkl\") \n",
    "test_df.to_pickle(\"./data/test_df.pkl\")"
   ],
   "outputs": [],
   "execution_count": 8
  },
  {
   "cell_type": "code",
   "metadata": {
    "id": "H5uO-kOUYTpo",
    "ExecuteTime": {
     "end_time": "2025-10-28T12:30:35.780187Z",
     "start_time": "2025-10-28T12:30:35.770161Z"
    }
   },
   "source": [
    "import pandas as pd\n",
    "\n",
    "# load a pickle file\n",
    "train_df = pd.read_pickle(\"./data/train_df.pkl\")\n",
    "test_df = pd.read_pickle(\"./data/test_df.pkl\")"
   ],
   "outputs": [],
   "execution_count": 9
  },
  {
   "cell_type": "markdown",
   "metadata": {
    "id": "_sLDcQzeYTpo"
   },
   "source": [
    "For more information: https://reurl.cc/0Dzqx"
   ]
  },
  {
   "cell_type": "markdown",
   "metadata": {
    "id": "dKHpxTzLYTpo"
   },
   "source": [
    "---\n",
    "### <a id='toc1_5_3_'></a>[**1.3 Exploratory data analysis (EDA)**](#toc0_)\n",
    "\n",
    "Again, before getting our hands dirty, we need to explore a little bit and understand the data we're dealing with."
   ]
  },
  {
   "cell_type": "code",
   "metadata": {
    "colab": {
     "base_uri": "https://localhost:8080/"
    },
    "id": "mLnEEliCYTpo",
    "outputId": "a253199b-cf8f-4cdc-b677-732be78993a3",
    "ExecuteTime": {
     "end_time": "2025-10-28T12:30:35.795354Z",
     "start_time": "2025-10-28T12:30:35.786176Z"
    }
   },
   "source": [
    "# group to find distribution\n",
    "train_df.groupby(['emotion']).count()['text']"
   ],
   "outputs": [
    {
     "data": {
      "text/plain": [
       "emotion\n",
       "anger       857\n",
       "fear       1147\n",
       "joy         823\n",
       "sadness     786\n",
       "Name: text, dtype: int64"
      ]
     },
     "execution_count": 10,
     "metadata": {},
     "output_type": "execute_result"
    }
   ],
   "execution_count": 10
  },
  {
   "cell_type": "code",
   "metadata": {
    "colab": {
     "base_uri": "https://localhost:8080/",
     "height": 241
    },
    "id": "pcVOe8nYYTpo",
    "outputId": "52c413c9-5a8f-450b-d99a-e541a76e95c7",
    "ExecuteTime": {
     "end_time": "2025-10-28T12:30:35.952228Z",
     "start_time": "2025-10-28T12:30:35.847218Z"
    }
   },
   "source": [
    "%matplotlib inline\n",
    "import numpy as np\n",
    "import matplotlib.pyplot as plt\n",
    "\n",
    "# the histogram of the data\n",
    "labels = train_df['emotion'].unique()\n",
    "post_total = len(train_df)\n",
    "df1 = train_df.groupby(['emotion']).count()['text']\n",
    "df1 = df1.apply(lambda x: round(x*100/post_total,3))\n",
    "\n",
    "#plot\n",
    "fig, ax = plt.subplots(figsize=(5,3))\n",
    "plt.bar(df1.index,df1.values)\n",
    "\n",
    "#arrange\n",
    "plt.ylabel('% of instances')\n",
    "plt.xlabel('Emotion')\n",
    "plt.title('Emotion distribution')\n",
    "plt.grid(True)\n",
    "plt.show()"
   ],
   "outputs": [
    {
     "data": {
      "text/plain": [
       "<Figure size 500x300 with 1 Axes>"
      ],
      "image/png": "[encoded data removed]"
     },
     "metadata": {},
     "output_type": "display_data",
     "jetTransient": {
      "display_id": null
     }
    }
   ],
   "execution_count": 11
  },
  {
   "cell_type": "markdown",
   "metadata": {
    "id": "B_jGcireYTpo"
   },
   "source": [
    "---"
   ]
  },
  {
   "cell_type": "markdown",
   "metadata": {
    "id": "hgHvhTJuYTpo"
   },
   "source": [
    "## <a id='toc1_6_'></a>[**2. Feature engineering**](#toc0_)\n",
    "### <a id='toc1_6_1_'></a>[Using Bag of Words](#toc0_)\n",
    "Using scikit-learn ```CountVectorizer``` perform word frequency and use these as features to train a model.  \n",
    "http://scikit-learn.org/stable/modules/generated/sklearn.feature_extraction.text.CountVectorizer.html"
   ]
  },
  {
   "cell_type": "code",
   "metadata": {
    "id": "rbl89LPUYTpo",
    "ExecuteTime": {
     "end_time": "2025-10-28T12:30:35.964107Z",
     "start_time": "2025-10-28T12:30:35.961207Z"
    }
   },
   "source": [
    "from sklearn.feature_extraction.text import CountVectorizer"
   ],
   "outputs": [],
   "execution_count": 12
  },
  {
   "cell_type": "code",
   "metadata": {
    "id": "Bo8_GP6qYTpo",
    "ExecuteTime": {
     "end_time": "2025-10-28T12:30:35.993719Z",
     "start_time": "2025-10-28T12:30:35.989043Z"
    }
   },
   "source": [
    "# build analyzers (bag-of-words)\n",
    "BOW_vectorizer = CountVectorizer() "
   ],
   "outputs": [],
   "execution_count": 13
  },
  {
   "cell_type": "code",
   "metadata": {
    "id": "Bz_m0xn7YTpo",
    "ExecuteTime": {
     "end_time": "2025-10-28T12:30:36.111881Z",
     "start_time": "2025-10-28T12:30:36.002699Z"
    }
   },
   "source": [
    "# 1. Learn a vocabulary dictionary of all tokens in the raw documents.\n",
    "BOW_vectorizer.fit(train_df['text'])\n",
    "\n",
    "# 2. Transform documents to document-term matrix.\n",
    "train_data_BOW_features = BOW_vectorizer.transform(train_df['text'])\n",
    "test_data_BOW_features = BOW_vectorizer.transform(test_df['text'])"
   ],
   "outputs": [],
   "execution_count": 14
  },
  {
   "cell_type": "code",
   "metadata": {
    "colab": {
     "base_uri": "https://localhost:8080/"
    },
    "id": "5cpCUVN8YTpo",
    "outputId": "c68d1f47-143e-4e56-c9bd-049c9c204e11",
    "ExecuteTime": {
     "end_time": "2025-10-28T12:30:36.141316Z",
     "start_time": "2025-10-28T12:30:36.136823Z"
    }
   },
   "source": [
    "# check the result\n",
    "train_data_BOW_features"
   ],
   "outputs": [
    {
     "data": {
      "text/plain": [
       "<3613x10115 sparse matrix of type '<class 'numpy.int64'>'\n",
       "\twith 51467 stored elements in Compressed Sparse Row format>"
      ]
     },
     "execution_count": 15,
     "metadata": {},
     "output_type": "execute_result"
    }
   ],
   "execution_count": 15
  },
  {
   "cell_type": "code",
   "metadata": {
    "colab": {
     "base_uri": "https://localhost:8080/"
    },
    "id": "irGLsag-YTpo",
    "outputId": "27e90366-d681-43ef-ab5f-7c3360b1a671",
    "ExecuteTime": {
     "end_time": "2025-10-28T12:30:36.198076Z",
     "start_time": "2025-10-28T12:30:36.192183Z"
    }
   },
   "source": [
    "type(train_data_BOW_features)"
   ],
   "outputs": [
    {
     "data": {
      "text/plain": [
       "scipy.sparse._csr.csr_matrix"
      ]
     },
     "execution_count": 16,
     "metadata": {},
     "output_type": "execute_result"
    }
   ],
   "execution_count": 16
  },
  {
   "cell_type": "code",
   "metadata": {
    "colab": {
     "base_uri": "https://localhost:8080/"
    },
    "id": "WqbR8KWNYTpo",
    "outputId": "50438b2b-731e-4031-8dfe-19d6c7831545",
    "scrolled": true,
    "ExecuteTime": {
     "end_time": "2025-10-28T12:30:36.332758Z",
     "start_time": "2025-10-28T12:30:36.245952Z"
    }
   },
   "source": [
    "# add .toarray() to show\n",
    "train_data_BOW_features.toarray()"
   ],
   "outputs": [
    {
     "data": {
      "text/plain": [
       "array([[0, 0, 0, ..., 0, 0, 0],\n",
       "       [0, 0, 0, ..., 0, 0, 0],\n",
       "       [0, 0, 0, ..., 0, 0, 0],\n",
       "       ...,\n",
       "       [0, 0, 0, ..., 0, 0, 0],\n",
       "       [0, 0, 0, ..., 0, 0, 0],\n",
       "       [0, 0, 0, ..., 0, 0, 0]], dtype=int64)"
      ]
     },
     "execution_count": 17,
     "metadata": {},
     "output_type": "execute_result"
    }
   ],
   "execution_count": 17
  },
  {
   "cell_type": "code",
   "metadata": {
    "colab": {
     "base_uri": "https://localhost:8080/"
    },
    "id": "mL0xkGyGYTpo",
    "outputId": "c6245d02-a095-44d9-b00f-bb62936bee4a",
    "scrolled": false,
    "ExecuteTime": {
     "end_time": "2025-10-28T12:30:36.366694Z",
     "start_time": "2025-10-28T12:30:36.361693Z"
    }
   },
   "source": [
    "# check the dimension\n",
    "train_data_BOW_features.shape"
   ],
   "outputs": [
    {
     "data": {
      "text/plain": [
       "(3613, 10115)"
      ]
     },
     "execution_count": 18,
     "metadata": {},
     "output_type": "execute_result"
    }
   ],
   "execution_count": 18
  },
  {
   "cell_type": "code",
   "metadata": {
    "colab": {
     "base_uri": "https://localhost:8080/"
    },
    "id": "iyRaxyBZYTpo",
    "outputId": "f1df1307-12a0-49b7-afcb-7ad840f886ca",
    "ExecuteTime": {
     "end_time": "2025-10-28T12:30:36.431786Z",
     "start_time": "2025-10-28T12:30:36.421551Z"
    }
   },
   "source": [
    "# observe some feature names\n",
    "feature_names = BOW_vectorizer.get_feature_names_out()\n",
    "feature_names[100:110]"
   ],
   "outputs": [
    {
     "data": {
      "text/plain": [
       "array(['2k17', '2much', '2nd', '30', '300', '301', '30am', '30pm', '30s',\n",
       "       '31'], dtype=object)"
      ]
     },
     "execution_count": 19,
     "metadata": {},
     "output_type": "execute_result"
    }
   ],
   "execution_count": 19
  },
  {
   "cell_type": "markdown",
   "metadata": {
    "id": "roSfgQKaYTpo"
   },
   "source": [
    "The embedding is done. We can technically feed this into our model. However, depending on the embedding technique you use and your model, your accuracy might not be as high, because:\n",
    "\n",
    "* curse of dimensionality  (we have 10,115 dimension now)\n",
    "* some important features are ignored (for example, some models using emoticons yeld better performance than counterparts)"
   ]
  },
  {
   "cell_type": "code",
   "metadata": {
    "colab": {
     "base_uri": "https://localhost:8080/"
    },
    "id": "kx4YPbrdYTpo",
    "outputId": "3d8a8808-fb86-4fe6-93b5-93ba0124f845",
    "ExecuteTime": {
     "end_time": "2025-10-28T12:30:36.485589Z",
     "start_time": "2025-10-28T12:30:36.480659Z"
    }
   },
   "source": [
    "\"😂\" in feature_names"
   ],
   "outputs": [
    {
     "data": {
      "text/plain": [
       "False"
      ]
     },
     "execution_count": 20,
     "metadata": {},
     "output_type": "execute_result"
    }
   ],
   "execution_count": 20
  },
  {
   "cell_type": "markdown",
   "metadata": {
    "id": "0MFzyA95YTpo"
   },
   "source": [
    "Let's try using another tokenizer below."
   ]
  },
  {
   "cell_type": "code",
   "metadata": {
    "colab": {
     "base_uri": "https://localhost:8080/"
    },
    "id": "SttodxACYTpo",
    "outputId": "11fe3750-22b7-45bf-c15f-586d74c35c13",
    "ExecuteTime": {
     "end_time": "2025-10-28T12:30:38.490745Z",
     "start_time": "2025-10-28T12:30:36.540446Z"
    }
   },
   "source": [
    "import nltk\n",
    "nltk.download('punkt_tab') # download the NLTK datasets\n",
    "\n",
    "# build analyzers (bag-of-words)\n",
    "BOW_500 = CountVectorizer(max_features=500, tokenizer=nltk.word_tokenize)\n",
    "\n",
    "# apply analyzer to training data\n",
    "BOW_500.fit(train_df['text'])\n",
    "\n",
    "train_data_BOW_features_500 = BOW_500.transform(train_df['text'])\n",
    "\n",
    "## check dimension\n",
    "train_data_BOW_features_500.shape"
   ],
   "outputs": [
    {
     "name": "stderr",
     "output_type": "stream",
     "text": [
      "[nltk_data] Downloading package punkt_tab to\n",
      "[nltk_data]     C:\\Users\\User\\AppData\\Roaming\\nltk_data...\n",
      "[nltk_data]   Package punkt_tab is already up-to-date!\n",
      "D:\\NguyenNKTruong\\DM2025Labs\\DM2025-Lab2-Exercise\\.venv\\Lib\\site-packages\\sklearn\\feature_extraction\\text.py:517: UserWarning: The parameter 'token_pattern' will not be used since 'tokenizer' is not None'\n",
      "  warnings.warn(\n"
     ]
    },
    {
     "data": {
      "text/plain": [
       "(3613, 500)"
      ]
     },
     "execution_count": 21,
     "metadata": {},
     "output_type": "execute_result"
    }
   ],
   "execution_count": 21
  },
  {
   "cell_type": "code",
   "metadata": {
    "colab": {
     "base_uri": "https://localhost:8080/"
    },
    "id": "sPi42W0pYTpo",
    "outputId": "54682edb-fa13-4292-fa48-ae81cd08b14f",
    "ExecuteTime": {
     "end_time": "2025-10-28T12:30:38.525345Z",
     "start_time": "2025-10-28T12:30:38.514685Z"
    }
   },
   "source": [
    "train_data_BOW_features_500.toarray()"
   ],
   "outputs": [
    {
     "data": {
      "text/plain": [
       "array([[1, 0, 0, ..., 0, 0, 0],\n",
       "       [0, 0, 0, ..., 0, 0, 0],\n",
       "       [0, 0, 0, ..., 0, 0, 0],\n",
       "       ...,\n",
       "       [0, 1, 0, ..., 0, 0, 0],\n",
       "       [0, 1, 0, ..., 0, 0, 0],\n",
       "       [0, 4, 0, ..., 0, 0, 0]], dtype=int64)"
      ]
     },
     "execution_count": 22,
     "metadata": {},
     "output_type": "execute_result"
    }
   ],
   "execution_count": 22
  },
  {
   "cell_type": "code",
   "metadata": {
    "colab": {
     "base_uri": "https://localhost:8080/"
    },
    "id": "JCgAnTOfYTpo",
    "outputId": "bba03b17-8ca5-4942-a78f-df389c70cd1f",
    "ExecuteTime": {
     "end_time": "2025-10-28T12:30:38.563093Z",
     "start_time": "2025-10-28T12:30:38.555269Z"
    }
   },
   "source": [
    "# observe some feature names\n",
    "feature_names_500 = BOW_500.get_feature_names_out()\n",
    "feature_names_500[100:110]"
   ],
   "outputs": [
    {
     "data": {
      "text/plain": [
       "array(['change', 'cheer', 'cheerful', 'cheerfully', 'cheering', 'cheery',\n",
       "       'come', 'comes', 'could', 'country'], dtype=object)"
      ]
     },
     "execution_count": 23,
     "metadata": {},
     "output_type": "execute_result"
    }
   ],
   "execution_count": 23
  },
  {
   "cell_type": "code",
   "metadata": {
    "colab": {
     "base_uri": "https://localhost:8080/"
    },
    "id": "ubgedNi4YTpo",
    "outputId": "d4c8c862-7507-497c-fc76-a2730996bb40",
    "ExecuteTime": {
     "end_time": "2025-10-28T12:30:38.597622Z",
     "start_time": "2025-10-28T12:30:38.592020Z"
    }
   },
   "source": [
    "\"😂\" in feature_names_500"
   ],
   "outputs": [
    {
     "data": {
      "text/plain": [
       "True"
      ]
     },
     "execution_count": 24,
     "metadata": {},
     "output_type": "execute_result"
    }
   ],
   "execution_count": 24
  },
  {
   "cell_type": "markdown",
   "metadata": {
    "id": "fj6TV4ngYTpo"
   },
   "source": [
    "---\n",
    "##### <a id='toc1_6_1_1_1_'></a>[**>>> Exercise 2 (Take home):**](#toc0_)\n",
    "Generate an embedding using the TF-IDF vectorizer instead of th BOW one with 1000 features and show the feature names for features [100:110]."
   ]
  },
  {
   "cell_type": "code",
   "metadata": {
    "id": "BOjVbgmxYTpo",
    "ExecuteTime": {
     "end_time": "2025-10-28T12:30:38.725733Z",
     "start_time": "2025-10-28T12:30:38.646494Z"
    }
   },
   "source": [
    "# Answer here\n",
    "from sklearn.feature_extraction.text import TfidfVectorizer\n",
    "########### Train data ############\n",
    "tfidf = TfidfVectorizer(\n",
    "    lowercase=True,\n",
    "    stop_words='english',\n",
    "    token_pattern=r'(?u)\\b[a-zA-Z]{2,}\\b',\n",
    "    max_features=1000\n",
    ")\n",
    "X_tfidf = tfidf.fit_transform(train_df['text'].fillna('').astype(str))\n",
    "feat_names = tfidf.get_feature_names_out()\n",
    "print(\"TF-IDF shape:\", X_tfidf.shape)\n",
    "print(list(feat_names[100:110]))\n",
    "########### Test data ############\n",
    "tfidf = TfidfVectorizer(\n",
    "    lowercase=True,\n",
    "    stop_words='english',\n",
    "    token_pattern=r'(?u)\\b[a-zA-Z]{2,}\\b',\n",
    "    max_features=1000\n",
    ")\n",
    "X_tfidf = tfidf.fit_transform(test_df['text'].fillna('').astype(str))\n",
    "feat_names = tfidf.get_feature_names_out()\n",
    "print(\"TF-IDF shape:\", X_tfidf.shape)\n",
    "print(list(feat_names[100:110]))\n"
   ],
   "outputs": [
    {
     "name": "stdout",
     "output_type": "stream",
     "text": [
      "TF-IDF shape: (3613, 1000)\n",
      "['brown', 'bs', 'bully', 'burning', 'burst', 'bus', 'business', 'buy', 'cake', 'called']\n",
      "TF-IDF shape: (347, 1000)\n",
      "['charged', 'chasing', 'cheer', 'cheerful', 'cheerfully', 'chelsea', 'chosen', 'class', 'clp', 'cnnpolitics']\n"
     ]
    }
   ],
   "execution_count": 25
  },
  {
   "cell_type": "markdown",
   "metadata": {
    "id": "e0BvbNAVYTpo"
   },
   "source": [
    "---\n",
    "## <a id='toc1_7_'></a>[**3. Model**](#toc0_)\n",
    "### <a id='toc1_7_1_'></a>[**3.1 Decision Trees**](#toc0_)\n",
    "Using scikit-learn ```DecisionTreeClassifier``` performs word frequency and uses these as features to train a model.  \n",
    "http://scikit-learn.org/stable/modules/generated/sklearn.tree.DecisionTreeClassifier.html#sklearn.tree.DecisionTreeClassifier"
   ]
  },
  {
   "cell_type": "code",
   "metadata": {
    "colab": {
     "base_uri": "https://localhost:8080/"
    },
    "id": "SD0rMWKgYTpo",
    "outputId": "36873985-dd8e-40ac-8ff8-f297a21f69db",
    "ExecuteTime": {
     "end_time": "2025-10-28T12:30:39.374775Z",
     "start_time": "2025-10-28T12:30:38.743689Z"
    }
   },
   "source": [
    "from sklearn.tree import DecisionTreeClassifier\n",
    "\n",
    "# for a classificaiton problem, you need to provide both training & testing data\n",
    "X_train = BOW_500.transform(train_df['text'])\n",
    "y_train = train_df['emotion']\n",
    "\n",
    "X_test = BOW_500.transform(test_df['text'])\n",
    "y_test = test_df['emotion']\n",
    "\n",
    "## take a look at data dimension is a good habit  :)\n",
    "print('X_train.shape: ', X_train.shape)\n",
    "print('y_train.shape: ', y_train.shape)\n",
    "print('X_test.shape: ', X_test.shape)\n",
    "print('y_test.shape: ', y_test.shape)"
   ],
   "outputs": [
    {
     "name": "stdout",
     "output_type": "stream",
     "text": [
      "X_train.shape:  (3613, 500)\n",
      "y_train.shape:  (3613,)\n",
      "X_test.shape:  (347, 500)\n",
      "y_test.shape:  (347,)\n"
     ]
    }
   ],
   "execution_count": 26
  },
  {
   "cell_type": "code",
   "metadata": {
    "colab": {
     "base_uri": "https://localhost:8080/"
    },
    "id": "iDuvLf7TYTpo",
    "outputId": "892ea486-fe16-49fc-a57a-b507924d9549",
    "ExecuteTime": {
     "end_time": "2025-10-28T12:30:39.667987Z",
     "start_time": "2025-10-28T12:30:39.390735Z"
    }
   },
   "source": [
    "## build DecisionTree model\n",
    "DT_model = DecisionTreeClassifier(random_state=1)\n",
    "\n",
    "## training!\n",
    "DT_model = DT_model.fit(X_train, y_train)\n",
    "\n",
    "## predict!\n",
    "y_train_pred = DT_model.predict(X_train)\n",
    "y_test_pred = DT_model.predict(X_test)\n",
    "\n",
    "## so we get the pred result\n",
    "y_test_pred[:10]"
   ],
   "outputs": [
    {
     "data": {
      "text/plain": [
       "array(['joy', 'joy', 'anger', 'fear', 'fear', 'anger', 'fear', 'anger',\n",
       "       'sadness', 'joy'], dtype=object)"
      ]
     },
     "execution_count": 27,
     "metadata": {},
     "output_type": "execute_result"
    }
   ],
   "execution_count": 27
  },
  {
   "cell_type": "markdown",
   "metadata": {
    "id": "iBNmBT50YTpo"
   },
   "source": [
    "---\n",
    "## <a id='toc1_8_'></a>[**4. Results Evaluation**](#toc0_)"
   ]
  },
  {
   "cell_type": "markdown",
   "metadata": {
    "id": "-gQU_PbhYTpo"
   },
   "source": [
    "Now we will check the results of our model's performance"
   ]
  },
  {
   "cell_type": "code",
   "metadata": {
    "colab": {
     "base_uri": "https://localhost:8080/"
    },
    "id": "A9yx3tv-YTpo",
    "outputId": "0b1e4f04-d7a5-4e0d-8351-66c2b802cc42",
    "ExecuteTime": {
     "end_time": "2025-10-28T12:30:39.694871Z",
     "start_time": "2025-10-28T12:30:39.684951Z"
    }
   },
   "source": [
    "## accuracy\n",
    "from sklearn.metrics import accuracy_score\n",
    "\n",
    "acc_train = accuracy_score(y_true=y_train, y_pred=y_train_pred)\n",
    "acc_test = accuracy_score(y_true=y_test, y_pred=y_test_pred)\n",
    "\n",
    "print('training accuracy: {}'.format(round(acc_train, 2)))\n",
    "print('testing accuracy: {}'.format(round(acc_test, 2)))\n"
   ],
   "outputs": [
    {
     "name": "stdout",
     "output_type": "stream",
     "text": [
      "training accuracy: 0.99\n",
      "testing accuracy: 0.68\n"
     ]
    }
   ],
   "execution_count": 28
  },
  {
   "cell_type": "code",
   "metadata": {
    "colab": {
     "base_uri": "https://localhost:8080/"
    },
    "id": "-wkOqjqiYTpo",
    "outputId": "f0538316-514a-4894-fb0f-ccc73204f598",
    "ExecuteTime": {
     "end_time": "2025-10-28T12:30:39.757252Z",
     "start_time": "2025-10-28T12:30:39.740753Z"
    }
   },
   "source": [
    "## precision, recall, f1-score,\n",
    "from sklearn.metrics import classification_report\n",
    "\n",
    "print(classification_report(y_true=y_test, y_pred=y_test_pred))"
   ],
   "outputs": [
    {
     "name": "stdout",
     "output_type": "stream",
     "text": [
      "              precision    recall  f1-score   support\n",
      "\n",
      "       anger       0.66      0.68      0.67        84\n",
      "        fear       0.66      0.69      0.67       110\n",
      "         joy       0.72      0.71      0.71        79\n",
      "     sadness       0.70      0.64      0.67        74\n",
      "\n",
      "    accuracy                           0.68       347\n",
      "   macro avg       0.68      0.68      0.68       347\n",
      "weighted avg       0.68      0.68      0.68       347\n",
      "\n"
     ]
    }
   ],
   "execution_count": 29
  },
  {
   "cell_type": "code",
   "metadata": {
    "colab": {
     "base_uri": "https://localhost:8080/"
    },
    "id": "N6mhrmKHYTpo",
    "outputId": "30efb505-d5e0-41f6-e72a-05302135a4db",
    "ExecuteTime": {
     "end_time": "2025-10-28T12:30:39.801598Z",
     "start_time": "2025-10-28T12:30:39.794157Z"
    }
   },
   "source": [
    "## check by confusion matrix\n",
    "from sklearn.metrics import confusion_matrix\n",
    "\n",
    "cm = confusion_matrix(y_true=y_test, y_pred=y_test_pred) \n",
    "print(cm)"
   ],
   "outputs": [
    {
     "name": "stdout",
     "output_type": "stream",
     "text": [
      "[[57 18  6  3]\n",
      " [16 76  9  9]\n",
      " [ 6  9 56  8]\n",
      " [ 7 13  7 47]]\n"
     ]
    }
   ],
   "execution_count": 30
  },
  {
   "cell_type": "code",
   "metadata": {
    "id": "-TcX8NA5YTpo",
    "ExecuteTime": {
     "end_time": "2025-10-28T12:30:39.853540Z",
     "start_time": "2025-10-28T12:30:39.842491Z"
    }
   },
   "source": [
    "# Funciton for visualizing confusion_matrix\n",
    "import matplotlib.pyplot as plt\n",
    "import seaborn as sns\n",
    "import numpy as np\n",
    "import itertools\n",
    "\n",
    "def plot_confusion_matrix(cm, classes, title='Confusion matrix',\n",
    "                          cmap=sns.cubehelix_palette(as_cmap=True)):\n",
    "    \"\"\"\n",
    "    This function is modified from: \n",
    "    http://scikit-learn.org/stable/auto_examples/model_selection/plot_confusion_matrix.html\n",
    "    \"\"\"\n",
    "    classes.sort()\n",
    "    tick_marks = np.arange(len(classes))    \n",
    "    \n",
    "    fig, ax = plt.subplots(figsize=(5,5))\n",
    "    im = ax.imshow(cm, interpolation='nearest', cmap=cmap)\n",
    "    ax.figure.colorbar(im, ax=ax)\n",
    "    ax.set(xticks=np.arange(cm.shape[1]),\n",
    "           yticks=np.arange(cm.shape[0]),\n",
    "           xticklabels = classes,\n",
    "           yticklabels = classes,\n",
    "           title = title,\n",
    "           xlabel = 'Predicted label',\n",
    "           ylabel = 'True label')\n",
    "\n",
    "    fmt = 'd'\n",
    "    thresh = cm.max() / 2.\n",
    "    for i, j in itertools.product(range(cm.shape[0]), range(cm.shape[1])):\n",
    "        plt.text(j, i, format(cm[i, j], fmt), horizontalalignment=\"center\", color=\"white\" if cm[i, j] > thresh else \"black\")\n",
    "    ylim_top = len(classes) - 0.5\n",
    "    plt.ylim([ylim_top, -.5])\n",
    "    plt.tight_layout()\n",
    "    plt.show()"
   ],
   "outputs": [],
   "execution_count": 31
  },
  {
   "cell_type": "code",
   "metadata": {
    "colab": {
     "base_uri": "https://localhost:8080/",
     "height": 363
    },
    "id": "1nBVOUpDYTpo",
    "outputId": "7f99188c-1f03-462e-971e-0c8238f4f0d7",
    "ExecuteTime": {
     "end_time": "2025-10-28T12:30:40.034313Z",
     "start_time": "2025-10-28T12:30:39.864516Z"
    }
   },
   "source": [
    "# plot your confusion matrix\n",
    "my_tags = ['anger', 'fear', 'joy', 'sadness']\n",
    "plot_confusion_matrix(cm, classes=my_tags, title='Confusion matrix')"
   ],
   "outputs": [
    {
     "data": {
      "text/plain": [
       "<Figure size 500x500 with 2 Axes>"
      ],
      "image/png": "[encoded data removed]"
     },
     "metadata": {},
     "output_type": "display_data",
     "jetTransient": {
      "display_id": null
     }
    }
   ],
   "execution_count": 32
  },
  {
   "cell_type": "markdown",
   "metadata": {
    "id": "l743vmwgYTpo"
   },
   "source": [
    "---\n",
    "##### <a id='toc1_8_1_1_1_'></a>[**>>> Exercise 3 (Take home):**](#toc0_)\n",
    "Can you interpret the results above? What do they mean?"
   ]
  },
  {
   "cell_type": "code",
   "metadata": {
    "id": "8pYICOxsYTpo",
    "ExecuteTime": {
     "end_time": "2025-10-28T12:30:40.060609Z",
     "start_time": "2025-10-28T12:30:40.056258Z"
    }
   },
   "source": [
    "# Answer here\n",
    "# Confusion matrix (rows=true label, cols=predicted labe):\n",
    "# Overall: ~68% accuracy (236/347 correct).\n",
    "# Best class: Joy (recall ~71%, precision ~72%).\n",
    "# Weaker: Sadness (recall ~64%); frequent mix-ups with fear and anger.\n",
    "# Major confusions: anger and fear; sadness to fear.\n",
    "\n",
    "# Interpretation: Model separates joy well but struggles among negative emotions (anger, fear and sadness). To improve, we can consider class balancing and class weights"
   ],
   "outputs": [],
   "execution_count": 33
  },
  {
   "cell_type": "markdown",
   "metadata": {
    "id": "GaHpgl87YTpo"
   },
   "source": [
    "---\n",
    "##### <a id='toc1_8_1_1_2_'></a>[**>>> Exercise 4 (Take home):**](#toc0_)\n",
    "Build a model using a ```Naive Bayes``` model and train it. What are the testing results? \n",
    "\n",
    "*Reference*: https://scikit-learn.org/stable/modules/generated/sklearn.naive_bayes.MultinomialNB.html"
   ]
  },
  {
   "cell_type": "code",
   "metadata": {
    "id": "ZPvaHzpXYTpo",
    "ExecuteTime": {
     "end_time": "2025-10-28T12:30:40.181387Z",
     "start_time": "2025-10-28T12:30:40.081574Z"
    }
   },
   "source": [
    "# Answer here\n",
    "from sklearn.pipeline import Pipeline\n",
    "from sklearn.feature_extraction.text import TfidfVectorizer\n",
    "from sklearn.naive_bayes import MultinomialNB\n",
    "from sklearn.metrics import accuracy_score, classification_report, confusion_matrix\n",
    "\n",
    "LABEL_COL = \"emotion\"\n",
    "\n",
    "model = Pipeline([\n",
    "    (\"tfidf\", TfidfVectorizer(\n",
    "        lowercase=True,\n",
    "        stop_words=\"english\",\n",
    "        token_pattern=r\"(?u)\\b[a-zA-Z]{2,}\\b\"\n",
    "    )),\n",
    "    (\"nb\", MultinomialNB())\n",
    "])\n",
    "\n",
    "########### Train\n",
    "model.fit(train_df[\"text\"].fillna(\"\").astype(str), train_df[LABEL_COL].astype(str))\n",
    "########### Test\n",
    "y_true = test_df[LABEL_COL].astype(str)\n",
    "y_pred = model.predict(test_df[\"text\"].fillna(\"\").astype(str))\n",
    "########### Results\n",
    "print(\"Test Accuracy:\", accuracy_score(y_true, y_pred))\n",
    "print(\"\\nClassification report:\\n\", classification_report(y_true, y_pred))\n",
    "print(\"\\nConfusion matrix:\\n\", confusion_matrix(y_true, y_pred))"
   ],
   "outputs": [
    {
     "name": "stdout",
     "output_type": "stream",
     "text": [
      "Test Accuracy: 0.7723342939481268\n",
      "\n",
      "Classification report:\n",
      "               precision    recall  f1-score   support\n",
      "\n",
      "       anger       0.84      0.70      0.77        84\n",
      "        fear       0.66      0.92      0.77       110\n",
      "         joy       0.88      0.77      0.82        79\n",
      "     sadness       0.85      0.64      0.73        74\n",
      "\n",
      "    accuracy                           0.77       347\n",
      "   macro avg       0.81      0.76      0.77       347\n",
      "weighted avg       0.80      0.77      0.77       347\n",
      "\n",
      "\n",
      "Confusion matrix:\n",
      " [[ 59  17   2   6]\n",
      " [  4 101   3   2]\n",
      " [  4  14  61   0]\n",
      " [  3  21   3  47]]\n"
     ]
    }
   ],
   "execution_count": 34
  },
  {
   "cell_type": "markdown",
   "metadata": {
    "id": "Xv2DqWQSYTpo"
   },
   "source": [
    "---\n",
    "##### <a id='toc1_8_1_1_3_'></a>[**>>> Exercise 5 (Take home):**](#toc0_)\n",
    "\n",
    "How do the results from the Naive Bayes model and the Decision Tree model compare? How do you interpret these differences? Use the theoretical background covered in class to try and explain these differences."
   ]
  },
  {
   "cell_type": "code",
   "metadata": {
    "id": "ALN_jHdlYTpo",
    "ExecuteTime": {
     "end_time": "2025-10-28T12:30:41.423223Z",
     "start_time": "2025-10-28T12:30:40.205326Z"
    }
   },
   "source": [
    "# Answer here\n",
    "from sklearn.pipeline import Pipeline\n",
    "from sklearn.feature_extraction.text import TfidfVectorizer\n",
    "from sklearn.naive_bayes import MultinomialNB\n",
    "from sklearn.tree import DecisionTreeClassifier\n",
    "from sklearn.metrics import accuracy_score, classification_report\n",
    "\n",
    "LABEL_COL = \"emotion\"\n",
    "\n",
    "def make_pipe(clf):\n",
    "    return Pipeline([\n",
    "        (\"tfidf\", TfidfVectorizer(lowercase=True, stop_words=\"english\",\n",
    "                                  token_pattern=r\"(?u)\\b[a-zA-Z]{2,}\\b\")),\n",
    "        (\"clf\", clf)\n",
    "    ])\n",
    "\n",
    "nb = make_pipe(MultinomialNB())\n",
    "dt = make_pipe(DecisionTreeClassifier(random_state=0, max_depth=None))\n",
    "\n",
    "####### Train\n",
    "for model in [nb, dt]:\n",
    "    model.fit(train_df[\"text\"].fillna(\"\").astype(str), train_df[LABEL_COL].astype(str))\n",
    "\n",
    "####### Test\n",
    "X_test = test_df[\"text\"].fillna(\"\").astype(str)\n",
    "y_true = test_df[LABEL_COL].astype(str)\n",
    "\n",
    "y_nb = nb.predict(X_test)\n",
    "y_dt = dt.predict(X_test)\n",
    "\n",
    "print(\"NB accuracy:\", accuracy_score(y_true, y_nb))\n",
    "print(\"DT accuracy:\", accuracy_score(y_true, y_dt))\n",
    "print(\"\\nNaive Bayes report:\\n\", classification_report(y_true, y_nb))\n",
    "print(\"\\nDecision Tree report:\\n\", classification_report(y_true, y_dt))\n",
    "\n",
    "# DT is slightly better overall (accuracy 0.781 vs NB 0.772; macro-F1 0.78 vs 0.77), with more balanced precision/recall across classes.\n",
    "# NB shows very high recall for fear (0.92) but lower precision (0.66), and higher precision for sadness (0.85) with lower recall (0.64)—i.e., NB aggregates many weak word cues (conditional independence) and tends to over-predict classes with many indicative tokens.\n",
    "# A single DT uses axis-aligned splits to capture simple interactions, yielding steadier balance (e.g., anger recall 0.79 vs NB 0.70), but it cannot sum numerous tiny signals as effectively as NB in sparse TF-IDF.\n",
    "# Performances are very close; DT edges NB by 0.9% with better balance, but NB excels at “fear” recall."
   ],
   "outputs": [
    {
     "name": "stdout",
     "output_type": "stream",
     "text": [
      "NB accuracy: 0.7723342939481268\n",
      "DT accuracy: 0.7809798270893372\n",
      "\n",
      "Naive Bayes report:\n",
      "               precision    recall  f1-score   support\n",
      "\n",
      "       anger       0.84      0.70      0.77        84\n",
      "        fear       0.66      0.92      0.77       110\n",
      "         joy       0.88      0.77      0.82        79\n",
      "     sadness       0.85      0.64      0.73        74\n",
      "\n",
      "    accuracy                           0.77       347\n",
      "   macro avg       0.81      0.76      0.77       347\n",
      "weighted avg       0.80      0.77      0.77       347\n",
      "\n",
      "\n",
      "Decision Tree report:\n",
      "               precision    recall  f1-score   support\n",
      "\n",
      "       anger       0.82      0.79      0.80        84\n",
      "        fear       0.74      0.81      0.77       110\n",
      "         joy       0.84      0.81      0.83        79\n",
      "     sadness       0.74      0.70      0.72        74\n",
      "\n",
      "    accuracy                           0.78       347\n",
      "   macro avg       0.79      0.78      0.78       347\n",
      "weighted avg       0.78      0.78      0.78       347\n",
      "\n"
     ]
    }
   ],
   "execution_count": 35
  },
  {
   "cell_type": "markdown",
   "metadata": {
    "id": "ehlJ60lhYTpo"
   },
   "source": [
    "---"
   ]
  },
  {
   "cell_type": "markdown",
   "metadata": {
    "id": "79F_DaW-YTpo"
   },
   "source": [
    "## <a id='toc1_9_'></a>[**5. Other things you can try**](#toc0_)"
   ]
  },
  {
   "cell_type": "markdown",
   "metadata": {
    "id": "_oeqpRu6YTpo"
   },
   "source": [
    "Thus, there are several things you can try that will affect your results. In order to yield better results, you can experiment by: \n",
    "- Trying different features (Feature engineering)e.g Word2Vec, PCA, LDA, FastText, Clustering\n",
    "- Trying different models\n",
    "- Analyzing your results and interpret them to improve your feature engineering/model building process\n",
    "- Iterate through the steps above until finding a satisfying result\n",
    "\n",
    "Remember that you should also consider the task at hand and the model you'll feed the data to. "
   ]
  },
  {
   "cell_type": "markdown",
   "metadata": {
    "id": "fiGUSmPLYTpo"
   },
   "source": [
    "---\n",
    "## <a id='toc1_10_'></a>[**6. Deep Learning**](#toc0_)\n",
    "\n",
    "We use [Keras](https://keras.io/) to be our deep learning framework, and follow the [Model (functional API)](https://keras.io/models/model/) to build a Deep Neural Network (DNN) model. Keras runs with Tensorflow in the backend. It's a nice abstraction to start working with NN models. \n",
    "\n",
    "Because Deep Learning is a 1-semester course, we can't talk about each detail about it in the lab session. Here, we only provide a simple template about how to build & run a DL model successfully. You can follow this template to design your model.\n",
    "\n",
    "We will begin by building a fully connected network, which looks like this:"
   ]
  },
  {
   "cell_type": "markdown",
   "metadata": {
    "id": "1nB0BTq2YTpo"
   },
   "source": [
    "![pic1.png](./pics/pic1.png)\n",
    "\n",
    "(source: https://github.com/drewnoff/spark-notebook-ml-labs/tree/master/labs/DLFramework)\n"
   ]
  },
  {
   "cell_type": "markdown",
   "metadata": {
    "id": "-EtVRGhNYTpo"
   },
   "source": [
    "---\n",
    "### <a id='toc1_10_1_'></a>[**6.1 Prepare data (X, y)**](#toc0_)"
   ]
  },
  {
   "cell_type": "code",
   "metadata": {
    "colab": {
     "base_uri": "https://localhost:8080/"
    },
    "id": "4mIdg2D6YTpo",
    "outputId": "8f4fa078-7e07-4b76-e5ee-163d123abde3",
    "ExecuteTime": {
     "end_time": "2025-10-28T12:30:52.143646Z",
     "start_time": "2025-10-28T12:30:41.467108Z"
    }
   },
   "source": [
    "import keras\n",
    "# standardize name (X, y)\n",
    "X_train = BOW_500.transform(train_df['text'])\n",
    "y_train = train_df['emotion']\n",
    "\n",
    "X_test = BOW_500.transform(test_df['text'])\n",
    "y_test = test_df['emotion']\n",
    "\n",
    "## check dimension is a good habbit \n",
    "print('X_train.shape: ', X_train.shape)\n",
    "print('y_train.shape: ', y_train.shape)\n",
    "print('X_test.shape: ', X_test.shape)\n",
    "print('y_test.shape: ', y_test.shape)"
   ],
   "outputs": [
    {
     "name": "stdout",
     "output_type": "stream",
     "text": [
      "X_train.shape:  (3613, 500)\n",
      "y_train.shape:  (3613,)\n",
      "X_test.shape:  (347, 500)\n",
      "y_test.shape:  (347,)\n"
     ]
    }
   ],
   "execution_count": 36
  },
  {
   "cell_type": "code",
   "metadata": {
    "ExecuteTime": {
     "end_time": "2025-10-28T12:30:52.158858Z",
     "start_time": "2025-10-28T12:30:52.155627Z"
    }
   },
   "source": [
    "import keras"
   ],
   "outputs": [],
   "execution_count": 37
  },
  {
   "cell_type": "code",
   "metadata": {
    "ExecuteTime": {
     "end_time": "2025-10-28T12:30:52.242599Z",
     "start_time": "2025-10-28T12:30:52.184784Z"
    }
   },
   "source": [
    "BOW_500.transform(test_df['text'])"
   ],
   "outputs": [
    {
     "data": {
      "text/plain": [
       "<347x500 sparse matrix of type '<class 'numpy.int64'>'\n",
       "\twith 4103 stored elements in Compressed Sparse Row format>"
      ]
     },
     "execution_count": 38,
     "metadata": {},
     "output_type": "execute_result"
    }
   ],
   "execution_count": 38
  },
  {
   "cell_type": "markdown",
   "metadata": {
    "id": "iBZZedZ2YTpo"
   },
   "source": [
    "---\n",
    "### <a id='toc1_10_2_'></a>[**6.2 Deal with categorical label (y)**](#toc0_)\n",
    "\n",
    "Rather than put your label `train_df['emotion']` directly into a model, we have to process these categorical (or say nominal) label by ourselves. \n",
    "\n",
    "Here, we use the basic method [one-hot encoding](https://en.wikipedia.org/wiki/One-hot) to transform our categorical  labels to numerical ones.\n"
   ]
  },
  {
   "cell_type": "code",
   "metadata": {
    "ExecuteTime": {
     "end_time": "2025-10-28T12:30:52.268129Z",
     "start_time": "2025-10-28T12:30:52.261561Z"
    }
   },
   "source": [
    "# deal with label (string -> one-hot)\n",
    "from sklearn.preprocessing import LabelEncoder\n",
    "\n",
    "label_encoder = LabelEncoder()\n",
    "label_encoder.fit(y_train)\n",
    "\n",
    "print('check label: ', label_encoder.classes_)\n",
    "print('\\n## Before convert')\n",
    "print('y_train[0:4]:\\n', y_train[0:4])\n",
    "print('\\ny_train.shape: ', y_train.shape)\n",
    "print('y_test.shape: ', y_test.shape)\n",
    "\n",
    "def label_encode(le, labels):\n",
    "    enc = le.transform(labels)\n",
    "    return keras.utils.to_categorical(enc)\n",
    "\n",
    "def label_decode(le, one_hot_label):\n",
    "    dec = np.argmax(one_hot_label, axis=1)\n",
    "    return le.inverse_transform(dec)"
   ],
   "outputs": [
    {
     "name": "stdout",
     "output_type": "stream",
     "text": [
      "check label:  ['anger' 'fear' 'joy' 'sadness']\n",
      "\n",
      "## Before convert\n",
      "y_train[0:4]:\n",
      " 1647       fear\n",
      "345       anger\n",
      "1962       fear\n",
      "3122    sadness\n",
      "Name: emotion, dtype: object\n",
      "\n",
      "y_train.shape:  (3613,)\n",
      "y_test.shape:  (347,)\n"
     ]
    }
   ],
   "execution_count": 39
  },
  {
   "cell_type": "code",
   "metadata": {
    "colab": {
     "base_uri": "https://localhost:8080/"
    },
    "id": "SU95MCsSYTpo",
    "outputId": "7f536cfa-8eda-4c04-bbbb-f35caa203f88",
    "ExecuteTime": {
     "end_time": "2025-10-28T12:30:52.385549Z",
     "start_time": "2025-10-28T12:30:52.377837Z"
    }
   },
   "source": [
    "y_train = label_encode(label_encoder, y_train)\n",
    "y_test = label_encode(label_encoder, y_test)\n",
    "\n",
    "print('\\n\\n## After convert')\n",
    "print('y_train[0:4]:\\n', y_train[0:4])\n",
    "print('\\ny_train.shape: ', y_train.shape)\n",
    "print('y_test.shape: ', y_test.shape)\n"
   ],
   "outputs": [
    {
     "name": "stdout",
     "output_type": "stream",
     "text": [
      "\n",
      "\n",
      "## After convert\n",
      "y_train[0:4]:\n",
      " [[0. 1. 0. 0.]\n",
      " [1. 0. 0. 0.]\n",
      " [0. 1. 0. 0.]\n",
      " [0. 0. 0. 1.]]\n",
      "\n",
      "y_train.shape:  (3613, 4)\n",
      "y_test.shape:  (347, 4)\n"
     ]
    }
   ],
   "execution_count": 40
  },
  {
   "cell_type": "markdown",
   "metadata": {
    "id": "W4bqEcMbYTpo"
   },
   "source": [
    "---\n",
    "### <a id='toc1_10_3_'></a>[**6.3 Build model**](#toc0_)"
   ]
  },
  {
   "cell_type": "code",
   "metadata": {
    "colab": {
     "base_uri": "https://localhost:8080/"
    },
    "id": "6sA7cx-oYTpo",
    "outputId": "9f544ca7-8ceb-45e4-a76d-bdc8ccdb329c",
    "ExecuteTime": {
     "end_time": "2025-10-28T12:30:52.463642Z",
     "start_time": "2025-10-28T12:30:52.458358Z"
    }
   },
   "source": [
    "# I/O check\n",
    "input_shape = X_train.shape[1]\n",
    "print('input_shape: ', input_shape)\n",
    "\n",
    "output_shape = len(label_encoder.classes_)\n",
    "print('output_shape: ', output_shape)"
   ],
   "outputs": [
    {
     "name": "stdout",
     "output_type": "stream",
     "text": [
      "input_shape:  500\n",
      "output_shape:  4\n"
     ]
    }
   ],
   "execution_count": 41
  },
  {
   "cell_type": "markdown",
   "metadata": {
    "id": "8c-uWuloYTpo"
   },
   "source": [
    "![pic2.png](./pics/pic2.png)"
   ]
  },
  {
   "cell_type": "code",
   "metadata": {
    "colab": {
     "base_uri": "https://localhost:8080/"
    },
    "id": "jTeBWTvgYTpo",
    "outputId": "3e88d40f-2179-40ea-89c6-55085cabd1c6",
    "ExecuteTime": {
     "end_time": "2025-10-28T12:30:52.685695Z",
     "start_time": "2025-10-28T12:30:52.514511Z"
    }
   },
   "source": [
    "from keras.models import Model\n",
    "from keras.layers import Input, Dense\n",
    "from keras.layers import ReLU, Softmax\n",
    "\n",
    "# input layer\n",
    "model_input = Input(shape=(input_shape, ))  # 500\n",
    "X = model_input\n",
    "\n",
    "# 1st hidden layer\n",
    "X_W1 = Dense(units=64)(X)  # 64\n",
    "H1 = ReLU()(X_W1)\n",
    "\n",
    "# 2nd hidden layer\n",
    "H1_W2 = Dense(units=64)(H1)  # 64\n",
    "H2 = ReLU()(H1_W2)\n",
    "\n",
    "# output layer\n",
    "H2_W3 = Dense(units=output_shape)(H2)  # 4\n",
    "H3 = Softmax()(H2_W3)\n",
    "\n",
    "model_output = H3\n",
    "\n",
    "# create model\n",
    "model = Model(inputs=[model_input], outputs=[model_output])\n",
    "\n",
    "# loss function & optimizer\n",
    "model.compile(optimizer='adam',\n",
    "              loss='categorical_crossentropy',\n",
    "              metrics=['accuracy'])\n",
    "\n",
    "# show model construction\n",
    "model.summary()"
   ],
   "outputs": [
    {
     "data": {
      "text/plain": [
       "\u001B[1mModel: \"functional\"\u001B[0m\n"
      ],
      "text/html": [
       "<pre style=\"white-space:pre;overflow-x:auto;line-height:normal;font-family:Menlo,'DejaVu Sans Mono',consolas,'Courier New',monospace\"><span style=\"font-weight: bold\">Model: \"functional\"</span>\n",
       "</pre>\n"
      ]
     },
     "metadata": {},
     "output_type": "display_data",
     "jetTransient": {
      "display_id": null
     }
    },
    {
     "data": {
      "text/plain": [
       "┏━━━━━━━━━━━━━━━━━━━━━━━━━━━━━━━━━┳━━━━━━━━━━━━━━━━━━━━━━━━┳━━━━━━━━━━━━━━━┓\n",
       "┃\u001B[1m \u001B[0m\u001B[1mLayer (type)                   \u001B[0m\u001B[1m \u001B[0m┃\u001B[1m \u001B[0m\u001B[1mOutput Shape          \u001B[0m\u001B[1m \u001B[0m┃\u001B[1m \u001B[0m\u001B[1m      Param #\u001B[0m\u001B[1m \u001B[0m┃\n",
       "┡━━━━━━━━━━━━━━━━━━━━━━━━━━━━━━━━━╇━━━━━━━━━━━━━━━━━━━━━━━━╇━━━━━━━━━━━━━━━┩\n",
       "│ input_layer (\u001B[38;5;33mInputLayer\u001B[0m)        │ (\u001B[38;5;45mNone\u001B[0m, \u001B[38;5;34m500\u001B[0m)            │             \u001B[38;5;34m0\u001B[0m │\n",
       "├─────────────────────────────────┼────────────────────────┼───────────────┤\n",
       "│ dense (\u001B[38;5;33mDense\u001B[0m)                   │ (\u001B[38;5;45mNone\u001B[0m, \u001B[38;5;34m64\u001B[0m)             │        \u001B[38;5;34m32,064\u001B[0m │\n",
       "├─────────────────────────────────┼────────────────────────┼───────────────┤\n",
       "│ re_lu (\u001B[38;5;33mReLU\u001B[0m)                    │ (\u001B[38;5;45mNone\u001B[0m, \u001B[38;5;34m64\u001B[0m)             │             \u001B[38;5;34m0\u001B[0m │\n",
       "├─────────────────────────────────┼────────────────────────┼───────────────┤\n",
       "│ dense_1 (\u001B[38;5;33mDense\u001B[0m)                 │ (\u001B[38;5;45mNone\u001B[0m, \u001B[38;5;34m64\u001B[0m)             │         \u001B[38;5;34m4,160\u001B[0m │\n",
       "├─────────────────────────────────┼────────────────────────┼───────────────┤\n",
       "│ re_lu_1 (\u001B[38;5;33mReLU\u001B[0m)                  │ (\u001B[38;5;45mNone\u001B[0m, \u001B[38;5;34m64\u001B[0m)             │             \u001B[38;5;34m0\u001B[0m │\n",
       "├─────────────────────────────────┼────────────────────────┼───────────────┤\n",
       "│ dense_2 (\u001B[38;5;33mDense\u001B[0m)                 │ (\u001B[38;5;45mNone\u001B[0m, \u001B[38;5;34m4\u001B[0m)              │           \u001B[38;5;34m260\u001B[0m │\n",
       "├─────────────────────────────────┼────────────────────────┼───────────────┤\n",
       "│ softmax (\u001B[38;5;33mSoftmax\u001B[0m)               │ (\u001B[38;5;45mNone\u001B[0m, \u001B[38;5;34m4\u001B[0m)              │             \u001B[38;5;34m0\u001B[0m │\n",
       "└─────────────────────────────────┴────────────────────────┴───────────────┘\n"
      ],
      "text/html": [
       "<pre style=\"white-space:pre;overflow-x:auto;line-height:normal;font-family:Menlo,'DejaVu Sans Mono',consolas,'Courier New',monospace\">┏━━━━━━━━━━━━━━━━━━━━━━━━━━━━━━━━━┳━━━━━━━━━━━━━━━━━━━━━━━━┳━━━━━━━━━━━━━━━┓\n",
       "┃<span style=\"font-weight: bold\"> Layer (type)                    </span>┃<span style=\"font-weight: bold\"> Output Shape           </span>┃<span style=\"font-weight: bold\">       Param # </span>┃\n",
       "┡━━━━━━━━━━━━━━━━━━━━━━━━━━━━━━━━━╇━━━━━━━━━━━━━━━━━━━━━━━━╇━━━━━━━━━━━━━━━┩\n",
       "│ input_layer (<span style=\"color: #0087ff; text-decoration-color: #0087ff\">InputLayer</span>)        │ (<span style=\"color: #00d7ff; text-decoration-color: #00d7ff\">None</span>, <span style=\"color: #00af00; text-decoration-color: #00af00\">500</span>)            │             <span style=\"color: #00af00; text-decoration-color: #00af00\">0</span> │\n",
       "├─────────────────────────────────┼────────────────────────┼───────────────┤\n",
       "│ dense (<span style=\"color: #0087ff; text-decoration-color: #0087ff\">Dense</span>)                   │ (<span style=\"color: #00d7ff; text-decoration-color: #00d7ff\">None</span>, <span style=\"color: #00af00; text-decoration-color: #00af00\">64</span>)             │        <span style=\"color: #00af00; text-decoration-color: #00af00\">32,064</span> │\n",
       "├─────────────────────────────────┼────────────────────────┼───────────────┤\n",
       "│ re_lu (<span style=\"color: #0087ff; text-decoration-color: #0087ff\">ReLU</span>)                    │ (<span style=\"color: #00d7ff; text-decoration-color: #00d7ff\">None</span>, <span style=\"color: #00af00; text-decoration-color: #00af00\">64</span>)             │             <span style=\"color: #00af00; text-decoration-color: #00af00\">0</span> │\n",
       "├─────────────────────────────────┼────────────────────────┼───────────────┤\n",
       "│ dense_1 (<span style=\"color: #0087ff; text-decoration-color: #0087ff\">Dense</span>)                 │ (<span style=\"color: #00d7ff; text-decoration-color: #00d7ff\">None</span>, <span style=\"color: #00af00; text-decoration-color: #00af00\">64</span>)             │         <span style=\"color: #00af00; text-decoration-color: #00af00\">4,160</span> │\n",
       "├─────────────────────────────────┼────────────────────────┼───────────────┤\n",
       "│ re_lu_1 (<span style=\"color: #0087ff; text-decoration-color: #0087ff\">ReLU</span>)                  │ (<span style=\"color: #00d7ff; text-decoration-color: #00d7ff\">None</span>, <span style=\"color: #00af00; text-decoration-color: #00af00\">64</span>)             │             <span style=\"color: #00af00; text-decoration-color: #00af00\">0</span> │\n",
       "├─────────────────────────────────┼────────────────────────┼───────────────┤\n",
       "│ dense_2 (<span style=\"color: #0087ff; text-decoration-color: #0087ff\">Dense</span>)                 │ (<span style=\"color: #00d7ff; text-decoration-color: #00d7ff\">None</span>, <span style=\"color: #00af00; text-decoration-color: #00af00\">4</span>)              │           <span style=\"color: #00af00; text-decoration-color: #00af00\">260</span> │\n",
       "├─────────────────────────────────┼────────────────────────┼───────────────┤\n",
       "│ softmax (<span style=\"color: #0087ff; text-decoration-color: #0087ff\">Softmax</span>)               │ (<span style=\"color: #00d7ff; text-decoration-color: #00d7ff\">None</span>, <span style=\"color: #00af00; text-decoration-color: #00af00\">4</span>)              │             <span style=\"color: #00af00; text-decoration-color: #00af00\">0</span> │\n",
       "└─────────────────────────────────┴────────────────────────┴───────────────┘\n",
       "</pre>\n"
      ]
     },
     "metadata": {},
     "output_type": "display_data",
     "jetTransient": {
      "display_id": null
     }
    },
    {
     "data": {
      "text/plain": [
       "\u001B[1m Total params: \u001B[0m\u001B[38;5;34m36,484\u001B[0m (142.52 KB)\n"
      ],
      "text/html": [
       "<pre style=\"white-space:pre;overflow-x:auto;line-height:normal;font-family:Menlo,'DejaVu Sans Mono',consolas,'Courier New',monospace\"><span style=\"font-weight: bold\"> Total params: </span><span style=\"color: #00af00; text-decoration-color: #00af00\">36,484</span> (142.52 KB)\n",
       "</pre>\n"
      ]
     },
     "metadata": {},
     "output_type": "display_data",
     "jetTransient": {
      "display_id": null
     }
    },
    {
     "data": {
      "text/plain": [
       "\u001B[1m Trainable params: \u001B[0m\u001B[38;5;34m36,484\u001B[0m (142.52 KB)\n"
      ],
      "text/html": [
       "<pre style=\"white-space:pre;overflow-x:auto;line-height:normal;font-family:Menlo,'DejaVu Sans Mono',consolas,'Courier New',monospace\"><span style=\"font-weight: bold\"> Trainable params: </span><span style=\"color: #00af00; text-decoration-color: #00af00\">36,484</span> (142.52 KB)\n",
       "</pre>\n"
      ]
     },
     "metadata": {},
     "output_type": "display_data",
     "jetTransient": {
      "display_id": null
     }
    },
    {
     "data": {
      "text/plain": [
       "\u001B[1m Non-trainable params: \u001B[0m\u001B[38;5;34m0\u001B[0m (0.00 B)\n"
      ],
      "text/html": [
       "<pre style=\"white-space:pre;overflow-x:auto;line-height:normal;font-family:Menlo,'DejaVu Sans Mono',consolas,'Courier New',monospace\"><span style=\"font-weight: bold\"> Non-trainable params: </span><span style=\"color: #00af00; text-decoration-color: #00af00\">0</span> (0.00 B)\n",
       "</pre>\n"
      ]
     },
     "metadata": {},
     "output_type": "display_data",
     "jetTransient": {
      "display_id": null
     }
    }
   ],
   "execution_count": 42
  },
  {
   "cell_type": "markdown",
   "metadata": {
    "id": "nmTSDO2pYTpo"
   },
   "source": [
    "---\n",
    "### <a id='toc1_10_4_'></a>[**6.4 Train**](#toc0_)"
   ]
  },
  {
   "cell_type": "code",
   "metadata": {
    "colab": {
     "base_uri": "https://localhost:8080/"
    },
    "id": "Kl374LYqYTpo",
    "outputId": "75b1f651-b779-4efd-ff14-0b4a0e95d8db",
    "ExecuteTime": {
     "end_time": "2025-10-28T12:31:03.357214Z",
     "start_time": "2025-10-28T12:30:52.739555Z"
    }
   },
   "source": [
    "from keras.callbacks import CSVLogger\n",
    "\n",
    "csv_logger = CSVLogger('logs/training_log.csv')\n",
    "\n",
    "# training setting\n",
    "epochs = 25\n",
    "batch_size = 32\n",
    "\n",
    "# training!\n",
    "history = model.fit(X_train, y_train, \n",
    "                    epochs=epochs, \n",
    "                    batch_size=batch_size, \n",
    "                    callbacks=[csv_logger],\n",
    "                    validation_data = (X_test, y_test))\n",
    "print('training finish')"
   ],
   "outputs": [
    {
     "name": "stdout",
     "output_type": "stream",
     "text": [
      "Epoch 1/25\n",
      "\u001B[1m113/113\u001B[0m \u001B[32m━━━━━━━━━━━━━━━━━━━━\u001B[0m\u001B[37m\u001B[0m \u001B[1m2s\u001B[0m 5ms/step - accuracy: 0.3623 - loss: 1.3308 - val_accuracy: 0.4467 - val_loss: 1.2900\n",
      "Epoch 2/25\n",
      "\u001B[1m113/113\u001B[0m \u001B[32m━━━━━━━━━━━━━━━━━━━━\u001B[0m\u001B[37m\u001B[0m \u001B[1m0s\u001B[0m 2ms/step - accuracy: 0.6385 - loss: 0.9974 - val_accuracy: 0.6542 - val_loss: 0.9212\n",
      "Epoch 3/25\n",
      "\u001B[1m113/113\u001B[0m \u001B[32m━━━━━━━━━━━━━━━━━━━━\u001B[0m\u001B[37m\u001B[0m \u001B[1m0s\u001B[0m 3ms/step - accuracy: 0.7924 - loss: 0.5871 - val_accuracy: 0.6830 - val_loss: 0.7893\n",
      "Epoch 4/25\n",
      "\u001B[1m113/113\u001B[0m \u001B[32m━━━━━━━━━━━━━━━━━━━━\u001B[0m\u001B[37m\u001B[0m \u001B[1m0s\u001B[0m 3ms/step - accuracy: 0.8492 - loss: 0.4138 - val_accuracy: 0.6916 - val_loss: 0.7899\n",
      "Epoch 5/25\n",
      "\u001B[1m113/113\u001B[0m \u001B[32m━━━━━━━━━━━━━━━━━━━━\u001B[0m\u001B[37m\u001B[0m \u001B[1m0s\u001B[0m 3ms/step - accuracy: 0.8838 - loss: 0.3264 - val_accuracy: 0.7118 - val_loss: 0.8255\n",
      "Epoch 6/25\n",
      "\u001B[1m113/113\u001B[0m \u001B[32m━━━━━━━━━━━━━━━━━━━━\u001B[0m\u001B[37m\u001B[0m \u001B[1m0s\u001B[0m 3ms/step - accuracy: 0.9128 - loss: 0.2629 - val_accuracy: 0.6830 - val_loss: 0.8935\n",
      "Epoch 7/25\n",
      "\u001B[1m113/113\u001B[0m \u001B[32m━━━━━━━━━━━━━━━━━━━━\u001B[0m\u001B[37m\u001B[0m \u001B[1m0s\u001B[0m 3ms/step - accuracy: 0.9239 - loss: 0.2227 - val_accuracy: 0.6744 - val_loss: 0.9751\n",
      "Epoch 8/25\n",
      "\u001B[1m113/113\u001B[0m \u001B[32m━━━━━━━━━━━━━━━━━━━━\u001B[0m\u001B[37m\u001B[0m \u001B[1m0s\u001B[0m 3ms/step - accuracy: 0.9424 - loss: 0.1820 - val_accuracy: 0.6888 - val_loss: 1.0140\n",
      "Epoch 9/25\n",
      "\u001B[1m113/113\u001B[0m \u001B[32m━━━━━━━━━━━━━━━━━━━━\u001B[0m\u001B[37m\u001B[0m \u001B[1m0s\u001B[0m 3ms/step - accuracy: 0.9527 - loss: 0.1585 - val_accuracy: 0.6772 - val_loss: 1.0656\n",
      "Epoch 10/25\n",
      "\u001B[1m113/113\u001B[0m \u001B[32m━━━━━━━━━━━━━━━━━━━━\u001B[0m\u001B[37m\u001B[0m \u001B[1m0s\u001B[0m 3ms/step - accuracy: 0.9582 - loss: 0.1398 - val_accuracy: 0.6542 - val_loss: 1.1413\n",
      "Epoch 11/25\n",
      "\u001B[1m113/113\u001B[0m \u001B[32m━━━━━━━━━━━━━━━━━━━━\u001B[0m\u001B[37m\u001B[0m \u001B[1m0s\u001B[0m 2ms/step - accuracy: 0.9662 - loss: 0.1208 - val_accuracy: 0.6657 - val_loss: 1.2059\n",
      "Epoch 12/25\n",
      "\u001B[1m113/113\u001B[0m \u001B[32m━━━━━━━━━━━━━━━━━━━━\u001B[0m\u001B[37m\u001B[0m \u001B[1m0s\u001B[0m 3ms/step - accuracy: 0.9673 - loss: 0.1151 - val_accuracy: 0.6657 - val_loss: 1.3010\n",
      "Epoch 13/25\n",
      "\u001B[1m113/113\u001B[0m \u001B[32m━━━━━━━━━━━━━━━━━━━━\u001B[0m\u001B[37m\u001B[0m \u001B[1m0s\u001B[0m 3ms/step - accuracy: 0.9734 - loss: 0.1008 - val_accuracy: 0.6657 - val_loss: 1.2671\n",
      "Epoch 14/25\n",
      "\u001B[1m113/113\u001B[0m \u001B[32m━━━━━━━━━━━━━━━━━━━━\u001B[0m\u001B[37m\u001B[0m \u001B[1m0s\u001B[0m 3ms/step - accuracy: 0.9709 - loss: 0.0923 - val_accuracy: 0.6427 - val_loss: 1.3583\n",
      "Epoch 15/25\n",
      "\u001B[1m113/113\u001B[0m \u001B[32m━━━━━━━━━━━━━━━━━━━━\u001B[0m\u001B[37m\u001B[0m \u001B[1m0s\u001B[0m 3ms/step - accuracy: 0.9732 - loss: 0.0930 - val_accuracy: 0.6513 - val_loss: 1.3740\n",
      "Epoch 16/25\n",
      "\u001B[1m113/113\u001B[0m \u001B[32m━━━━━━━━━━━━━━━━━━━━\u001B[0m\u001B[37m\u001B[0m \u001B[1m0s\u001B[0m 3ms/step - accuracy: 0.9768 - loss: 0.0837 - val_accuracy: 0.6427 - val_loss: 1.4238\n",
      "Epoch 17/25\n",
      "\u001B[1m113/113\u001B[0m \u001B[32m━━━━━━━━━━━━━━━━━━━━\u001B[0m\u001B[37m\u001B[0m \u001B[1m0s\u001B[0m 2ms/step - accuracy: 0.9781 - loss: 0.0802 - val_accuracy: 0.6628 - val_loss: 1.4484\n",
      "Epoch 18/25\n",
      "\u001B[1m113/113\u001B[0m \u001B[32m━━━━━━━━━━━━━━━━━━━━\u001B[0m\u001B[37m\u001B[0m \u001B[1m0s\u001B[0m 2ms/step - accuracy: 0.9740 - loss: 0.0799 - val_accuracy: 0.6571 - val_loss: 1.4614\n",
      "Epoch 19/25\n",
      "\u001B[1m113/113\u001B[0m \u001B[32m━━━━━━━━━━━━━━━━━━━━\u001B[0m\u001B[37m\u001B[0m \u001B[1m0s\u001B[0m 3ms/step - accuracy: 0.9756 - loss: 0.0721 - val_accuracy: 0.6484 - val_loss: 1.4712\n",
      "Epoch 20/25\n",
      "\u001B[1m113/113\u001B[0m \u001B[32m━━━━━━━━━━━━━━━━━━━━\u001B[0m\u001B[37m\u001B[0m \u001B[1m0s\u001B[0m 3ms/step - accuracy: 0.9770 - loss: 0.0691 - val_accuracy: 0.6628 - val_loss: 1.5162\n",
      "Epoch 21/25\n",
      "\u001B[1m113/113\u001B[0m \u001B[32m━━━━━━━━━━━━━━━━━━━━\u001B[0m\u001B[37m\u001B[0m \u001B[1m0s\u001B[0m 2ms/step - accuracy: 0.9776 - loss: 0.0690 - val_accuracy: 0.6484 - val_loss: 1.5380\n",
      "Epoch 22/25\n",
      "\u001B[1m113/113\u001B[0m \u001B[32m━━━━━━━━━━━━━━━━━━━━\u001B[0m\u001B[37m\u001B[0m \u001B[1m0s\u001B[0m 3ms/step - accuracy: 0.9784 - loss: 0.0681 - val_accuracy: 0.6542 - val_loss: 1.5769\n",
      "Epoch 23/25\n",
      "\u001B[1m113/113\u001B[0m \u001B[32m━━━━━━━━━━━━━━━━━━━━\u001B[0m\u001B[37m\u001B[0m \u001B[1m0s\u001B[0m 3ms/step - accuracy: 0.9773 - loss: 0.0641 - val_accuracy: 0.6484 - val_loss: 1.5891\n",
      "Epoch 24/25\n",
      "\u001B[1m113/113\u001B[0m \u001B[32m━━━━━━━━━━━━━━━━━━━━\u001B[0m\u001B[37m\u001B[0m \u001B[1m0s\u001B[0m 3ms/step - accuracy: 0.9787 - loss: 0.0607 - val_accuracy: 0.6455 - val_loss: 1.6132\n",
      "Epoch 25/25\n",
      "\u001B[1m113/113\u001B[0m \u001B[32m━━━━━━━━━━━━━━━━━━━━\u001B[0m\u001B[37m\u001B[0m \u001B[1m0s\u001B[0m 3ms/step - accuracy: 0.9792 - loss: 0.0620 - val_accuracy: 0.6455 - val_loss: 1.5915\n",
      "training finish\n"
     ]
    }
   ],
   "execution_count": 43
  },
  {
   "cell_type": "markdown",
   "metadata": {
    "id": "ip8RYsvSYTpo"
   },
   "source": [
    "---\n",
    "### <a id='toc1_10_5_'></a>[**6.5 Predict on testing data**](#toc0_)"
   ]
  },
  {
   "cell_type": "code",
   "metadata": {
    "colab": {
     "base_uri": "https://localhost:8080/"
    },
    "id": "xdnLuBYBYTpo",
    "outputId": "6e7e97b7-fe5c-44f6-9baa-a71335aa7b06",
    "ExecuteTime": {
     "end_time": "2025-10-28T12:31:03.660938Z",
     "start_time": "2025-10-28T12:31:03.381153Z"
    }
   },
   "source": [
    "## predict\n",
    "pred_result = model.predict(X_test, batch_size=128)\n",
    "pred_result[:5]"
   ],
   "outputs": [
    {
     "name": "stdout",
     "output_type": "stream",
     "text": [
      "\u001B[1m3/3\u001B[0m \u001B[32m━━━━━━━━━━━━━━━━━━━━\u001B[0m\u001B[37m\u001B[0m \u001B[1m0s\u001B[0m 41ms/step\n"
     ]
    },
    {
     "data": {
      "text/plain": [
       "array([[8.9674458e-02, 6.3872135e-01, 2.6975155e-01, 1.8525929e-03],\n",
       "       [1.1347889e-03, 2.3923855e-07, 9.9854195e-01, 3.2302999e-04],\n",
       "       [1.7657509e-04, 9.5686603e-01, 3.9804738e-02, 3.1527258e-03],\n",
       "       [6.7152118e-06, 9.9912637e-01, 8.2856580e-04, 3.8348870e-05],\n",
       "       [4.9322380e-06, 9.9999058e-01, 2.0217323e-08, 4.3855466e-06]],\n",
       "      dtype=float32)"
      ]
     },
     "execution_count": 44,
     "metadata": {},
     "output_type": "execute_result"
    }
   ],
   "execution_count": 44
  },
  {
   "cell_type": "code",
   "metadata": {
    "colab": {
     "base_uri": "https://localhost:8080/"
    },
    "id": "hSaXGEX-YTpo",
    "outputId": "d35b5fb3-74e5-44d9-ac1d-8a11cca023e4",
    "ExecuteTime": {
     "end_time": "2025-10-28T12:31:03.681610Z",
     "start_time": "2025-10-28T12:31:03.673936Z"
    }
   },
   "source": [
    "pred_result = label_decode(label_encoder, pred_result)\n",
    "pred_result[:5]"
   ],
   "outputs": [
    {
     "data": {
      "text/plain": [
       "array(['fear', 'joy', 'fear', 'fear', 'fear'], dtype=object)"
      ]
     },
     "execution_count": 45,
     "metadata": {},
     "output_type": "execute_result"
    }
   ],
   "execution_count": 45
  },
  {
   "cell_type": "code",
   "metadata": {
    "colab": {
     "base_uri": "https://localhost:8080/"
    },
    "id": "bRRHye9KYTp5",
    "outputId": "d4f240ef-5f59-4d90-e3a2-57b98ced3928",
    "ExecuteTime": {
     "end_time": "2025-10-28T12:31:03.728145Z",
     "start_time": "2025-10-28T12:31:03.723501Z"
    }
   },
   "source": [
    "from sklearn.metrics import accuracy_score\n",
    "\n",
    "print('testing accuracy: {}'.format(round(accuracy_score(label_decode(label_encoder, y_test), pred_result), 2)))"
   ],
   "outputs": [
    {
     "name": "stdout",
     "output_type": "stream",
     "text": [
      "testing accuracy: 0.65\n"
     ]
    }
   ],
   "execution_count": 46
  },
  {
   "cell_type": "code",
   "metadata": {
    "colab": {
     "base_uri": "https://localhost:8080/",
     "height": 834
    },
    "id": "ks2Q0aMsYTp5",
    "outputId": "8b802a69-6377-4f0a-c1fa-2f03e5abebd4",
    "ExecuteTime": {
     "end_time": "2025-10-28T12:31:03.780477Z",
     "start_time": "2025-10-28T12:31:03.766048Z"
    }
   },
   "source": [
    "#Let's take a look at the training log\n",
    "training_log = pd.DataFrame()\n",
    "training_log = pd.read_csv(\"logs/training_log.csv\")\n",
    "training_log"
   ],
   "outputs": [
    {
     "data": {
      "text/plain": [
       "    epoch  accuracy      loss  val_accuracy  val_loss\n",
       "0       0  0.362303  1.330784      0.446686  1.289992\n",
       "1       1  0.638528  0.997353      0.654179  0.921214\n",
       "2       2  0.792416  0.587064      0.682997  0.789258\n",
       "3       3  0.849156  0.413840      0.691643  0.789868\n",
       "4       4  0.883753  0.326430      0.711816  0.825523\n",
       "5       5  0.912815  0.262866      0.682997  0.893505\n",
       "6       6  0.923886  0.222697      0.674352  0.975133\n",
       "7       7  0.942430  0.182034      0.688761  1.013988\n",
       "8       8  0.952671  0.158463      0.677233  1.065639\n",
       "9       9  0.958206  0.139761      0.654179  1.141286\n",
       "10     10  0.966233  0.120842      0.665706  1.205940\n",
       "11     11  0.967340  0.115096      0.665706  1.301042\n",
       "12     12  0.973429  0.100842      0.665706  1.267132\n",
       "13     13  0.970938  0.092339      0.642651  1.358340\n",
       "14     14  0.973153  0.093042      0.651297  1.374018\n",
       "15     15  0.976751  0.083745      0.642651  1.423840\n",
       "16     16  0.978135  0.080221      0.662824  1.448387\n",
       "17     17  0.973983  0.079908      0.657061  1.461382\n",
       "18     18  0.975644  0.072065      0.648415  1.471188\n",
       "19     19  0.977027  0.069130      0.662824  1.516200\n",
       "20     20  0.977581  0.069034      0.648415  1.537979\n",
       "21     21  0.978411  0.068108      0.654179  1.576866\n",
       "22     22  0.977304  0.064150      0.648415  1.589080\n",
       "23     23  0.978688  0.060720      0.645533  1.613207\n",
       "24     24  0.979242  0.061990      0.645533  1.591508"
      ],
      "text/html": [
       "<div>\n",
       "<style scoped>\n",
       "    .dataframe tbody tr th:only-of-type {\n",
       "        vertical-align: middle;\n",
       "    }\n",
       "\n",
       "    .dataframe tbody tr th {\n",
       "        vertical-align: top;\n",
       "    }\n",
       "\n",
       "    .dataframe thead th {\n",
       "        text-align: right;\n",
       "    }\n",
       "</style>\n",
       "<table border=\"1\" class=\"dataframe\">\n",
       "  <thead>\n",
       "    <tr style=\"text-align: right;\">\n",
       "      <th></th>\n",
       "      <th>epoch</th>\n",
       "      <th>accuracy</th>\n",
       "      <th>loss</th>\n",
       "      <th>val_accuracy</th>\n",
       "      <th>val_loss</th>\n",
       "    </tr>\n",
       "  </thead>\n",
       "  <tbody>\n",
       "    <tr>\n",
       "      <th>0</th>\n",
       "      <td>0</td>\n",
       "      <td>0.362303</td>\n",
       "      <td>1.330784</td>\n",
       "      <td>0.446686</td>\n",
       "      <td>1.289992</td>\n",
       "    </tr>\n",
       "    <tr>\n",
       "      <th>1</th>\n",
       "      <td>1</td>\n",
       "      <td>0.638528</td>\n",
       "      <td>0.997353</td>\n",
       "      <td>0.654179</td>\n",
       "      <td>0.921214</td>\n",
       "    </tr>\n",
       "    <tr>\n",
       "      <th>2</th>\n",
       "      <td>2</td>\n",
       "      <td>0.792416</td>\n",
       "      <td>0.587064</td>\n",
       "      <td>0.682997</td>\n",
       "      <td>0.789258</td>\n",
       "    </tr>\n",
       "    <tr>\n",
       "      <th>3</th>\n",
       "      <td>3</td>\n",
       "      <td>0.849156</td>\n",
       "      <td>0.413840</td>\n",
       "      <td>0.691643</td>\n",
       "      <td>0.789868</td>\n",
       "    </tr>\n",
       "    <tr>\n",
       "      <th>4</th>\n",
       "      <td>4</td>\n",
       "      <td>0.883753</td>\n",
       "      <td>0.326430</td>\n",
       "      <td>0.711816</td>\n",
       "      <td>0.825523</td>\n",
       "    </tr>\n",
       "    <tr>\n",
       "      <th>5</th>\n",
       "      <td>5</td>\n",
       "      <td>0.912815</td>\n",
       "      <td>0.262866</td>\n",
       "      <td>0.682997</td>\n",
       "      <td>0.893505</td>\n",
       "    </tr>\n",
       "    <tr>\n",
       "      <th>6</th>\n",
       "      <td>6</td>\n",
       "      <td>0.923886</td>\n",
       "      <td>0.222697</td>\n",
       "      <td>0.674352</td>\n",
       "      <td>0.975133</td>\n",
       "    </tr>\n",
       "    <tr>\n",
       "      <th>7</th>\n",
       "      <td>7</td>\n",
       "      <td>0.942430</td>\n",
       "      <td>0.182034</td>\n",
       "      <td>0.688761</td>\n",
       "      <td>1.013988</td>\n",
       "    </tr>\n",
       "    <tr>\n",
       "      <th>8</th>\n",
       "      <td>8</td>\n",
       "      <td>0.952671</td>\n",
       "      <td>0.158463</td>\n",
       "      <td>0.677233</td>\n",
       "      <td>1.065639</td>\n",
       "    </tr>\n",
       "    <tr>\n",
       "      <th>9</th>\n",
       "      <td>9</td>\n",
       "      <td>0.958206</td>\n",
       "      <td>0.139761</td>\n",
       "      <td>0.654179</td>\n",
       "      <td>1.141286</td>\n",
       "    </tr>\n",
       "    <tr>\n",
       "      <th>10</th>\n",
       "      <td>10</td>\n",
       "      <td>0.966233</td>\n",
       "      <td>0.120842</td>\n",
       "      <td>0.665706</td>\n",
       "      <td>1.205940</td>\n",
       "    </tr>\n",
       "    <tr>\n",
       "      <th>11</th>\n",
       "      <td>11</td>\n",
       "      <td>0.967340</td>\n",
       "      <td>0.115096</td>\n",
       "      <td>0.665706</td>\n",
       "      <td>1.301042</td>\n",
       "    </tr>\n",
       "    <tr>\n",
       "      <th>12</th>\n",
       "      <td>12</td>\n",
       "      <td>0.973429</td>\n",
       "      <td>0.100842</td>\n",
       "      <td>0.665706</td>\n",
       "      <td>1.267132</td>\n",
       "    </tr>\n",
       "    <tr>\n",
       "      <th>13</th>\n",
       "      <td>13</td>\n",
       "      <td>0.970938</td>\n",
       "      <td>0.092339</td>\n",
       "      <td>0.642651</td>\n",
       "      <td>1.358340</td>\n",
       "    </tr>\n",
       "    <tr>\n",
       "      <th>14</th>\n",
       "      <td>14</td>\n",
       "      <td>0.973153</td>\n",
       "      <td>0.093042</td>\n",
       "      <td>0.651297</td>\n",
       "      <td>1.374018</td>\n",
       "    </tr>\n",
       "    <tr>\n",
       "      <th>15</th>\n",
       "      <td>15</td>\n",
       "      <td>0.976751</td>\n",
       "      <td>0.083745</td>\n",
       "      <td>0.642651</td>\n",
       "      <td>1.423840</td>\n",
       "    </tr>\n",
       "    <tr>\n",
       "      <th>16</th>\n",
       "      <td>16</td>\n",
       "      <td>0.978135</td>\n",
       "      <td>0.080221</td>\n",
       "      <td>0.662824</td>\n",
       "      <td>1.448387</td>\n",
       "    </tr>\n",
       "    <tr>\n",
       "      <th>17</th>\n",
       "      <td>17</td>\n",
       "      <td>0.973983</td>\n",
       "      <td>0.079908</td>\n",
       "      <td>0.657061</td>\n",
       "      <td>1.461382</td>\n",
       "    </tr>\n",
       "    <tr>\n",
       "      <th>18</th>\n",
       "      <td>18</td>\n",
       "      <td>0.975644</td>\n",
       "      <td>0.072065</td>\n",
       "      <td>0.648415</td>\n",
       "      <td>1.471188</td>\n",
       "    </tr>\n",
       "    <tr>\n",
       "      <th>19</th>\n",
       "      <td>19</td>\n",
       "      <td>0.977027</td>\n",
       "      <td>0.069130</td>\n",
       "      <td>0.662824</td>\n",
       "      <td>1.516200</td>\n",
       "    </tr>\n",
       "    <tr>\n",
       "      <th>20</th>\n",
       "      <td>20</td>\n",
       "      <td>0.977581</td>\n",
       "      <td>0.069034</td>\n",
       "      <td>0.648415</td>\n",
       "      <td>1.537979</td>\n",
       "    </tr>\n",
       "    <tr>\n",
       "      <th>21</th>\n",
       "      <td>21</td>\n",
       "      <td>0.978411</td>\n",
       "      <td>0.068108</td>\n",
       "      <td>0.654179</td>\n",
       "      <td>1.576866</td>\n",
       "    </tr>\n",
       "    <tr>\n",
       "      <th>22</th>\n",
       "      <td>22</td>\n",
       "      <td>0.977304</td>\n",
       "      <td>0.064150</td>\n",
       "      <td>0.648415</td>\n",
       "      <td>1.589080</td>\n",
       "    </tr>\n",
       "    <tr>\n",
       "      <th>23</th>\n",
       "      <td>23</td>\n",
       "      <td>0.978688</td>\n",
       "      <td>0.060720</td>\n",
       "      <td>0.645533</td>\n",
       "      <td>1.613207</td>\n",
       "    </tr>\n",
       "    <tr>\n",
       "      <th>24</th>\n",
       "      <td>24</td>\n",
       "      <td>0.979242</td>\n",
       "      <td>0.061990</td>\n",
       "      <td>0.645533</td>\n",
       "      <td>1.591508</td>\n",
       "    </tr>\n",
       "  </tbody>\n",
       "</table>\n",
       "</div>"
      ]
     },
     "execution_count": 47,
     "metadata": {},
     "output_type": "execute_result"
    }
   ],
   "execution_count": 47
  },
  {
   "cell_type": "markdown",
   "metadata": {
    "id": "NoYqY0-tYTp5"
   },
   "source": [
    "---\n",
    "##### <a id='toc1_10_5_1_1_'></a>[**>>> Exercise 6 (Take home):**](#toc0_)\n",
    "\n",
    "Plot the Training and Validation Accuracy and Loss (different plots), just like the images below.(Note: the pictures below are an example from a different model). How to interpret the graphs you got? How are they related to the concept of overfitting/underfitting covered in class?\n",
    "\n",
    "![pic3.png](./pics/pic3.png)  ![pic4.png](./pics/pic4.png)\n"
   ]
  },
  {
   "cell_type": "code",
   "metadata": {
    "id": "AlhstCrlYTp5",
    "ExecuteTime": {
     "end_time": "2025-10-28T12:42:09.130623Z",
     "start_time": "2025-10-28T12:42:08.834024Z"
    }
   },
   "source": [
    "# Answer here\n",
    "import matplotlib.pyplot as plt\n",
    "\n",
    "def plot_train_val(history):\n",
    "    acc = history.history.get('accuracy', [])\n",
    "    val_acc = history.history.get('val_accuracy', [])\n",
    "    loss = history.history.get('loss', [])\n",
    "    val_loss = history.history.get('val_loss', [])\n",
    "    epochs = range(1, len(acc)+1)\n",
    "    # Accuracy\n",
    "    plt.figure(figsize=(6,4))\n",
    "    plt.plot(epochs, acc, label='Train')\n",
    "    plt.plot(epochs, val_acc, label='Validation')\n",
    "    plt.xlabel('Epoch'); plt.ylabel('Accuracy'); plt.title('Accuracy'); plt.legend(); plt.tight_layout(); plt.show()\n",
    "\n",
    "    # Loss\n",
    "    plt.figure(figsize=(6,4))\n",
    "    plt.plot(epochs, loss, label='Train')\n",
    "    plt.plot(epochs, val_loss, label='Validation')\n",
    "    plt.xlabel('Epoch'); plt.ylabel('Loss'); plt.title('Loss'); plt.legend(); plt.tight_layout(); plt.show()\n",
    "\n",
    "\n",
    "plot_train_val(history)\n",
    "\n",
    "# In my training curves, the model is clearly overfitting. Training accuracy keeps climbing to ~0.99 and training loss drops near 0.1, but validation accuracy peaks around epoch 4–5 (~0.70) and then slowly declines to ~0.65, while validation loss bottoms near ~0.8 and rises above 1.5 afterward.\n",
    "# This widening gap fits what we learned in class: the model has too much capacity for the data and starts memorizing the training set instead of learning patterns that generalize. It doesn’t look like underfitting (both curves would be low).\n",
    "# If I were to finalize the model, I would early stop around epoch 4–5 (best val performance) and add regularization (e.g., dropout/L2) or reduce model size, and possibly add more data/augmentation.\n"
   ],
   "outputs": [
    {
     "data": {
      "text/plain": [
       "<Figure size 600x400 with 1 Axes>"
      ],
      "image/png": "[encoded data removed]"
     },
     "metadata": {},
     "output_type": "display_data",
     "jetTransient": {
      "display_id": null
     }
    },
    {
     "data": {
      "text/plain": [
       "<Figure size 600x400 with 1 Axes>"
      ],
      "image/png": "[encoded data removed]"
     },
     "metadata": {},
     "output_type": "display_data",
     "jetTransient": {
      "display_id": null
     }
    }
   ],
   "execution_count": 56
  },
  {
   "cell_type": "markdown",
   "metadata": {
    "id": "UYabzgSGYTp5"
   },
   "source": [
    "---"
   ]
  },
  {
   "cell_type": "markdown",
   "metadata": {
    "id": "4e5eiVLOYTp5"
   },
   "source": [
    "### <a id='toc1_10_6_'></a>[Note](#toc0_)\n",
    "\n",
    "If you don't have a GPU (level is higher than GTX 1060) or you are not good at setting lots of things about computer, we recommend you to use the [kaggle kernel](https://www.kaggle.com/kernels) to do deep learning model training. They have already installed all the librarys and provided free GPU for you to use.\n",
    "\n",
    "Note however that you will only be able to run a kernel for 6 hours. After 6 hours of inactivity, your Kaggle kernel will shut down (meaning if your model takes more than 6 hours to train, you can't train it at once).\n",
    "\n",
    "\n",
    "### <a id='toc1_10_7_'></a>[More Information for your reference](#toc0_)\n",
    "\n",
    "* Keras document: https://keras.io/\n",
    "* Keras GitHub example: https://github.com/keras-team/keras/tree/master/examples\n",
    "* CS229: Machine Learning: http://cs229.stanford.edu/syllabus.html\n",
    "* Deep Learning cheatsheet: https://stanford.edu/~shervine/teaching/cs-229/cheatsheet-deep-learning\n",
    "* If you want to try TensorFlow or PyTorch: https://pytorch.org/tutorials/\n",
    "https://www.tensorflow.org/tutorials/quickstart/beginner"
   ]
  },
  {
   "cell_type": "markdown",
   "metadata": {
    "id": "IESBq48MYTp5"
   },
   "source": [
    "---\n",
    "## <a id='toc1_11_'></a>[**7. Word2Vector**](#toc0_)\n",
    "\n",
    "We will introduce how to use `gensim` to train your word2vec model and how to load a pre-trained model.\n",
    "\n",
    "https://radimrehurek.com/gensim/index.html"
   ]
  },
  {
   "cell_type": "markdown",
   "metadata": {
    "id": "KRSDMhQ5YTp5"
   },
   "source": [
    "---\n",
    "### <a id='toc1_11_1_'></a>[**7.1 Prepare training corpus**](#toc0_)"
   ]
  },
  {
   "cell_type": "code",
   "metadata": {
    "colab": {
     "base_uri": "https://localhost:8080/",
     "height": 206
    },
    "id": "6aBYrovJYTp5",
    "outputId": "3df27e8d-0a96-40a5-8e3d-3186bb1ea624",
    "ExecuteTime": {
     "end_time": "2025-10-28T12:55:39.028467Z",
     "start_time": "2025-10-28T12:55:38.406849Z"
    }
   },
   "source": [
    "## check library\n",
    "import gensim\n",
    "\n",
    "## ignore warnings\n",
    "import warnings\n",
    "warnings.filterwarnings('ignore')\n",
    "\n",
    "# # if you want to see the training messages, you can use it\n",
    "# import logging\n",
    "# logging.basicConfig(format='%(asctime)s : %(levelname)s : %(message)s', level=logging.INFO)\n",
    "\n",
    "## the input type\n",
    "train_df['text_tokenized'] = train_df['text'].apply(lambda x: nltk.word_tokenize(x))\n",
    "train_df[['id', 'text', 'text_tokenized']].head()"
   ],
   "outputs": [
    {
     "data": {
      "text/plain": [
       "         id                                               text  \\\n",
       "1647  20790  @Cory_Bonini AP didn't have a productive week ...   \n",
       "345   10345  come on let's make em hate 😘make em pout they ...   \n",
       "1962  21105  So is texting a guy 'I'm ready for sex now' co...   \n",
       "3122  40295  Nothings #Working-you're feeling your life's o...   \n",
       "3475  40648  @TheCatHeSay I may be #alwayshungry but I have...   \n",
       "\n",
       "                                         text_tokenized  \n",
       "1647  [@, Cory_Bonini, AP, did, n't, have, a, produc...  \n",
       "345   [come, on, let, 's, make, em, hate, 😘make, em,...  \n",
       "1962  [So, is, texting, a, guy, ', I, 'm, ready, for...  \n",
       "3122  [Nothings, #, Working-you, 're, feeling, your,...  \n",
       "3475  [@, TheCatHeSay, I, may, be, #, alwayshungry, ...  "
      ],
      "text/html": [
       "<div>\n",
       "<style scoped>\n",
       "    .dataframe tbody tr th:only-of-type {\n",
       "        vertical-align: middle;\n",
       "    }\n",
       "\n",
       "    .dataframe tbody tr th {\n",
       "        vertical-align: top;\n",
       "    }\n",
       "\n",
       "    .dataframe thead th {\n",
       "        text-align: right;\n",
       "    }\n",
       "</style>\n",
       "<table border=\"1\" class=\"dataframe\">\n",
       "  <thead>\n",
       "    <tr style=\"text-align: right;\">\n",
       "      <th></th>\n",
       "      <th>id</th>\n",
       "      <th>text</th>\n",
       "      <th>text_tokenized</th>\n",
       "    </tr>\n",
       "  </thead>\n",
       "  <tbody>\n",
       "    <tr>\n",
       "      <th>1647</th>\n",
       "      <td>20790</td>\n",
       "      <td>@Cory_Bonini AP didn't have a productive week ...</td>\n",
       "      <td>[@, Cory_Bonini, AP, did, n't, have, a, produc...</td>\n",
       "    </tr>\n",
       "    <tr>\n",
       "      <th>345</th>\n",
       "      <td>10345</td>\n",
       "      <td>come on let's make em hate 😘make em pout they ...</td>\n",
       "      <td>[come, on, let, 's, make, em, hate, 😘make, em,...</td>\n",
       "    </tr>\n",
       "    <tr>\n",
       "      <th>1962</th>\n",
       "      <td>21105</td>\n",
       "      <td>So is texting a guy 'I'm ready for sex now' co...</td>\n",
       "      <td>[So, is, texting, a, guy, ', I, 'm, ready, for...</td>\n",
       "    </tr>\n",
       "    <tr>\n",
       "      <th>3122</th>\n",
       "      <td>40295</td>\n",
       "      <td>Nothings #Working-you're feeling your life's o...</td>\n",
       "      <td>[Nothings, #, Working-you, 're, feeling, your,...</td>\n",
       "    </tr>\n",
       "    <tr>\n",
       "      <th>3475</th>\n",
       "      <td>40648</td>\n",
       "      <td>@TheCatHeSay I may be #alwayshungry but I have...</td>\n",
       "      <td>[@, TheCatHeSay, I, may, be, #, alwayshungry, ...</td>\n",
       "    </tr>\n",
       "  </tbody>\n",
       "</table>\n",
       "</div>"
      ]
     },
     "execution_count": 57,
     "metadata": {},
     "output_type": "execute_result"
    }
   ],
   "execution_count": 57
  },
  {
   "cell_type": "code",
   "metadata": {
    "colab": {
     "base_uri": "https://localhost:8080/"
    },
    "id": "okFIEcmnYTp5",
    "outputId": "17a7ccde-3595-4837-f8d2-91698348fb22",
    "ExecuteTime": {
     "end_time": "2025-10-28T12:55:42.498968Z",
     "start_time": "2025-10-28T12:55:42.493621Z"
    }
   },
   "source": [
    "## create the training corpus\n",
    "training_corpus = train_df['text_tokenized'].values\n",
    "training_corpus[:3]"
   ],
   "outputs": [
    {
     "data": {
      "text/plain": [
       "array([list(['@', 'Cory_Bonini', 'AP', 'did', \"n't\", 'have', 'a', 'productive', 'week', '1', 'or', '1st', 'half', 'against', 'GB', 'and', 'Kalil', 'is', 'horrible', '!', '@', 'Vikings', 'D', 'is', 'its', 'strongest', 'asset', 'currently', '.']),\n",
       "       list(['come', 'on', 'let', \"'s\", 'make', 'em', 'hate', '😘make', 'em', 'pout', 'they', 'face', '👿😩', '.']),\n",
       "       list(['So', 'is', 'texting', 'a', 'guy', \"'\", 'I', \"'m\", 'ready', 'for', 'sex', 'now', \"'\", 'considered', 'flirting', '?', \"'\"])],\n",
       "      dtype=object)"
      ]
     },
     "execution_count": 58,
     "metadata": {},
     "output_type": "execute_result"
    }
   ],
   "execution_count": 58
  },
  {
   "cell_type": "markdown",
   "metadata": {
    "id": "dOgAriPRYTp5"
   },
   "source": [
    "---\n",
    "### <a id='toc1_11_2_'></a>[**7.2 Training our model**](#toc0_)\n",
    "\n",
    "You can try to train your own model. More details: https://radimrehurek.com/gensim/models/word2vec.html"
   ]
  },
  {
   "cell_type": "code",
   "metadata": {
    "id": "72ZA54IDYTp5",
    "scrolled": true,
    "ExecuteTime": {
     "end_time": "2025-10-28T12:59:33.436121Z",
     "start_time": "2025-10-28T12:59:32.276201Z"
    }
   },
   "source": [
    "from gensim.models import Word2Vec\n",
    "\n",
    "## setting\n",
    "vector_dim = 100\n",
    "window_size = 5\n",
    "min_count = 1\n",
    "training_epochs = 20\n",
    "\n",
    "## model\n",
    "word2vec_model = Word2Vec(sentences=training_corpus, \n",
    "                          vector_size=vector_dim, window=window_size, \n",
    "                          min_count=min_count, epochs=training_epochs)"
   ],
   "outputs": [],
   "execution_count": 63
  },
  {
   "cell_type": "markdown",
   "metadata": {
    "id": "ob0Molb3YTp5"
   },
   "source": [
    "![Imgur](https://i.imgur.com/Fca3MCs.png)"
   ]
  },
  {
   "cell_type": "markdown",
   "metadata": {
    "id": "E0jjvjN5YTp5"
   },
   "source": [
    "---\n",
    "### <a id='toc1_11_3_'></a>[**7.3 Generating word vector (embeddings)**](#toc0_)"
   ]
  },
  {
   "cell_type": "code",
   "metadata": {
    "colab": {
     "base_uri": "https://localhost:8080/"
    },
    "id": "4ejofZfCYTp5",
    "outputId": "b6e8683c-4368-41e4-b05b-868822b9c406",
    "ExecuteTime": {
     "end_time": "2025-10-28T12:55:50.023058Z",
     "start_time": "2025-10-28T12:55:50.018006Z"
    }
   },
   "source": [
    "# get the corresponding vector of a word\n",
    "word_vec = word2vec_model.wv['happy']\n",
    "word_vec"
   ],
   "outputs": [
    {
     "data": {
      "text/plain": [
       "array([ 7.34243155e-01,  1.63546771e-01, -1.24397814e-01,  4.38755080e-02,\n",
       "        1.98463961e-01, -1.13066661e+00,  3.41362089e-01,  1.47259462e+00,\n",
       "        1.69824481e-01, -6.06980264e-01, -4.05327767e-01, -9.38820124e-01,\n",
       "       -2.82046527e-01,  3.11162174e-01, -2.29254514e-01, -4.44989532e-01,\n",
       "        3.41096669e-01, -2.50221699e-01,  4.11335200e-01, -8.94597173e-01,\n",
       "        4.39150125e-01,  1.06480908e+00,  6.73887134e-01,  2.98863411e-01,\n",
       "       -1.36897951e-01,  7.37698600e-02, -3.54716897e-01,  4.36503857e-01,\n",
       "       -5.20512573e-02, -1.63627803e-01,  6.52065814e-01, -2.23121241e-01,\n",
       "        6.02650046e-01, -1.13982975e+00, -3.92573923e-01,  1.65963724e-01,\n",
       "        2.19678968e-01, -8.15046005e-05, -1.71997413e-01, -2.85119742e-01,\n",
       "        1.11362018e-01,  8.01244453e-02, -3.75211030e-01,  2.49288529e-01,\n",
       "        7.39042163e-01,  9.33516845e-02, -7.59258747e-01,  3.74509650e-03,\n",
       "        3.04176271e-01,  4.27140206e-01, -1.11274041e-01, -7.27511942e-01,\n",
       "        1.59180045e-01, -1.42130807e-01, -7.07648695e-01, -4.86295849e-01,\n",
       "        1.50911912e-01, -3.71892005e-01, -1.68409601e-01,  4.03219998e-01,\n",
       "        1.84866816e-01, -2.72762835e-01,  5.04524887e-01,  1.62040815e-02,\n",
       "       -6.57540321e-01,  7.24430501e-01, -9.78755355e-02,  3.85130376e-01,\n",
       "       -1.27531350e+00,  2.36695662e-01, -2.55919427e-01,  6.29329741e-01,\n",
       "        6.89106524e-01, -4.11680371e-01,  9.89916623e-01, -1.48064077e-01,\n",
       "        4.20061648e-01, -2.38016069e-01, -6.23415470e-01, -4.76078643e-03,\n",
       "       -8.68170083e-01, -5.57011425e-01, -8.42032313e-01,  7.75758445e-01,\n",
       "        1.16768807e-01, -6.47238433e-01,  6.93455815e-01,  8.92953202e-02,\n",
       "       -1.47160399e-03,  7.95663476e-01,  8.11713815e-01,  7.32329413e-02,\n",
       "        3.18295032e-01,  2.89923757e-01,  1.00716043e+00, -6.38067871e-02,\n",
       "        2.32029587e-01,  2.18832225e-01,  3.17237139e-01,  5.35327196e-01],\n",
       "      dtype=float32)"
      ]
     },
     "execution_count": 60,
     "metadata": {},
     "output_type": "execute_result"
    }
   ],
   "execution_count": 60
  },
  {
   "cell_type": "code",
   "metadata": {
    "colab": {
     "base_uri": "https://localhost:8080/"
    },
    "id": "9dUSkCscYTp5",
    "outputId": "ebd32d0b-bcda-4140-805e-35dfef1a68fb",
    "ExecuteTime": {
     "end_time": "2025-10-28T12:55:52.008475Z",
     "start_time": "2025-10-28T12:55:51.998332Z"
    }
   },
   "source": [
    "# Get the most similar words\n",
    "word = 'happy'\n",
    "topn = 10\n",
    "word2vec_model.wv.most_similar(word, topn=topn)"
   ],
   "outputs": [
    {
     "data": {
      "text/plain": [
       "[('Be', 0.9153331518173218),\n",
       " ('ship', 0.9122548699378967),\n",
       " ('birthday', 0.9108885526657104),\n",
       " ('depress', 0.9024935960769653),\n",
       " ('smile', 0.9001457095146179),\n",
       " ('help', 0.8991807699203491),\n",
       " ('blessed', 0.8988295197486877),\n",
       " ('cry', 0.8975188732147217),\n",
       " (\"'normal\", 0.89311683177948),\n",
       " (\"'you\", 0.8918357491493225)]"
      ]
     },
     "execution_count": 61,
     "metadata": {},
     "output_type": "execute_result"
    }
   ],
   "execution_count": 61
  },
  {
   "cell_type": "markdown",
   "metadata": {
    "id": "zuQvZVJvYTp5"
   },
   "source": [
    "---\n",
    "### <a id='toc1_11_4_'></a>[**7.4 Using a pre-trained w2v model**](#toc0_)\n",
    "\n",
    "Instead of training your own model ,you can use a model that has already been trained. Here, we see 2 ways of doing that:\n",
    "\n",
    "\n",
    "#### <a id='toc1_11_4_1_'></a>[(1) Download model by yourself](#toc0_)\n",
    "\n",
    "Download from this link: [Kaggle | Google News Vectors](https://www.kaggle.com/datasets/didiersalazar/google-news-vectors)\n",
    "\n",
    "Copy the data `GoogleNews-vectors-negative300.bin` into the following folder directory: `GoogleNews/`\n",
    "\n",
    "source: [GoogleNews-vectors-negative300](https://code.google.com/archive/p/word2vec/)\n",
    "\n",
    "more details: https://radimrehurek.com/gensim/models/keyedvectors.html"
   ]
  },
  {
   "metadata": {
    "ExecuteTime": {
     "end_time": "2025-10-28T13:17:47.206301Z",
     "start_time": "2025-10-28T13:17:27.185346Z"
    }
   },
   "cell_type": "code",
   "source": [
    "import gzip, shutil\n",
    "in_path = \"GoogleNews/GoogleNews-vectors-negative300.bin.gz\"\n",
    "out_path = in_path[:-3]\n",
    "\n",
    "with gzip.open(in_path, \"rb\") as f_in, open(out_path, \"wb\") as f_out:\n",
    "    shutil.copyfileobj(f_in, f_out)\n",
    "print(\"Done:\", out_path)"
   ],
   "outputs": [
    {
     "name": "stdout",
     "output_type": "stream",
     "text": [
      "Done: GoogleNews/GoogleNews-vectors-negative300.bin\n"
     ]
    }
   ],
   "execution_count": 71
  },
  {
   "cell_type": "code",
   "metadata": {
    "colab": {
     "base_uri": "https://localhost:8080/"
    },
    "id": "bdH9E9auYTp5",
    "outputId": "6193f5df-93cb-4c77-96fb-2d36b5d71835",
    "jupyter": {
     "is_executing": true
    },
    "ExecuteTime": {
     "start_time": "2025-10-28T13:18:48.560764Z"
    }
   },
   "source": [
    "from gensim.models import KeyedVectors\n",
    "# IMPORTANT: Please make sure that you have correctly downloaded the file and put it in the correct directory\n",
    "## Note: this model is huge, this will take some time ...\n",
    "model_path = \"./GoogleNews/GoogleNews-vectors-negative300.bin\"\n",
    "w2v_google_model = KeyedVectors.load_word2vec_format(model_path, binary=True)\n",
    "print('load ok')\n",
    "\n",
    "w2v_google_model.most_similar('happy', topn=10)"
   ],
   "outputs": [],
   "execution_count": null
  },
  {
   "cell_type": "markdown",
   "metadata": {
    "id": "NdQ9ul0eYTp5"
   },
   "source": [
    "#### <a id='toc1_11_4_2_'></a>[(2) Using gensim api](#toc0_)\n",
    "\n",
    "Other pretrained models are available here: https://github.com/RaRe-Technologies/gensim-data"
   ]
  },
  {
   "cell_type": "code",
   "execution_count": 54,
   "metadata": {
    "colab": {
     "base_uri": "https://localhost:8080/"
    },
    "id": "oIxHpNB6YTp5",
    "outputId": "8dc8d6f9-80b3-4cff-810d-28f175f5b891"
   },
   "outputs": [
    {
     "name": "stdout",
     "output_type": "stream",
     "text": [
      "load ok\n"
     ]
    },
    {
     "data": {
      "text/plain": [
       "[('birthday', 0.9577818512916565),\n",
       " ('thank', 0.937666654586792),\n",
       " ('welcome', 0.93361496925354),\n",
       " ('love', 0.9176183342933655),\n",
       " ('miss', 0.9164500832557678),\n",
       " ('hello', 0.9158351421356201),\n",
       " ('thanks', 0.915008544921875),\n",
       " ('merry', 0.9053249359130859),\n",
       " ('bless', 0.902732253074646),\n",
       " ('wish', 0.9013164043426514)]"
      ]
     },
     "execution_count": 54,
     "metadata": {},
     "output_type": "execute_result"
    }
   ],
   "source": [
    "import gensim.downloader as api\n",
    "\n",
    "## If you see `SSL: CERTIFICATE_VERIFY_FAILED` error, use this:\n",
    "import ssl\n",
    "import urllib.request\n",
    "ssl._create_default_https_context = ssl._create_unverified_context\n",
    "\n",
    "glove_twitter_25_model = api.load(\"glove-twitter-25\")\n",
    "print('load ok')\n",
    "\n",
    "glove_twitter_25_model.most_similar('happy', topn=10)"
   ]
  },
  {
   "cell_type": "markdown",
   "metadata": {
    "id": "GCNDNqeXYTp5"
   },
   "source": [
    "---\n",
    "### <a id='toc1_11_5_'></a>[**7.5 king + woman - man = ?**](#toc0_)"
   ]
  },
  {
   "cell_type": "markdown",
   "metadata": {
    "id": "_GtCRr_7YTp5"
   },
   "source": [
    "Let's run one of the most famous examples for Word2Vec and compute the similarity between these 3 words:"
   ]
  },
  {
   "cell_type": "code",
   "execution_count": 55,
   "metadata": {
    "colab": {
     "base_uri": "https://localhost:8080/"
    },
    "id": "Zew7m_kIYTp5",
    "outputId": "807bc2d0-c2c1-4b96-e61d-a62e6096aa1e"
   },
   "outputs": [
    {
     "data": {
      "text/plain": [
       "[('queen', 0.7118193507194519),\n",
       " ('monarch', 0.6189674139022827),\n",
       " ('princess', 0.5902431011199951),\n",
       " ('crown_prince', 0.5499460697174072),\n",
       " ('prince', 0.5377321839332581),\n",
       " ('kings', 0.5236844420433044),\n",
       " ('Queen_Consort', 0.5235945582389832),\n",
       " ('queens', 0.5181134343147278),\n",
       " ('sultan', 0.5098593831062317),\n",
       " ('monarchy', 0.5087411999702454)]"
      ]
     },
     "execution_count": 55,
     "metadata": {},
     "output_type": "execute_result"
    }
   ],
   "source": [
    "w2v_google_model.most_similar(positive=['king', 'woman'], negative=['man'])"
   ]
  },
  {
   "cell_type": "markdown",
   "metadata": {
    "id": "y3RQVnBOYTp5"
   },
   "source": [
    "---\n",
    "##### <a id='toc1_11_5_1_1_'></a>[**>>> Exercise 7 (Take home):**](#toc0_)\n",
    "\n",
    "Now, we have the word vectors, but our input data is a sequence of words (or say sentence). \n",
    "How can we utilize these \"word\" vectors to represent the sentence data and train our model?\n"
   ]
  },
  {
   "cell_type": "code",
   "execution_count": 86,
   "metadata": {
    "id": "TBwRT93DYTp5"
   },
   "outputs": [],
   "source": [
    "# Answer here\n"
   ]
  },
  {
   "cell_type": "markdown",
   "metadata": {
    "id": "LrK7O1KDYTp5"
   },
   "source": [
    "---\n",
    "## <a id='toc1_12_'></a>[**8. Clustering: k-means**](#toc0_)\n",
    "\n",
    "Here we introduce how to use `sklearn` to do the basic **unsupervised learning** approach, k-means.    \n",
    "\n",
    "more details: http://scikit-learn.org/stable/modules/generated/sklearn.cluster.KMeans.html\n"
   ]
  },
  {
   "cell_type": "markdown",
   "metadata": {
    "id": "Hr8_IxwBYTp5"
   },
   "source": [
    "#### <a id='toc1_12_1_1_'></a>[Basic concept](#toc0_)\n",
    "\n",
    "![pic5.png](./pics/pic5.png)\n",
    "\n",
    "(img source: https://towardsdatascience.com/k-means-clustering-identifying-f-r-i-e-n-d-s-in-the-world-of-strangers-695537505d)"
   ]
  },
  {
   "cell_type": "code",
   "execution_count": 56,
   "metadata": {
    "colab": {
     "base_uri": "https://localhost:8080/"
    },
    "id": "6heUPVwWYTp5",
    "outputId": "46a95152-7852-49d5-c055-f24ac1a04aa3"
   },
   "outputs": [
    {
     "name": "stdout",
     "output_type": "stream",
     "text": [
      "target words:  ['happy', 'fear', 'angry', 'car', 'teacher', 'computer']\n"
     ]
    }
   ],
   "source": [
    "# clustering target\n",
    "target_list = ['happy', 'fear', 'angry', 'car', 'teacher', 'computer']\n",
    "print('target words: ', target_list)\n",
    "\n",
    "# convert to word vector\n",
    "X = [word2vec_model.wv[word] for word in target_list]"
   ]
  },
  {
   "cell_type": "code",
   "execution_count": 57,
   "metadata": {
    "colab": {
     "base_uri": "https://localhost:8080/"
    },
    "id": "E9t_sJrvYTp5",
    "outputId": "47d70112-5490-47cc-8014-1b5b7dadbb26"
   },
   "outputs": [
    {
     "name": "stdout",
     "output_type": "stream",
     "text": [
      "word: happy \t cluster: 0\n",
      "word: fear \t cluster: 0\n",
      "word: angry \t cluster: 0\n",
      "word: car \t cluster: 1\n",
      "word: teacher \t cluster: 1\n",
      "word: computer \t cluster: 1\n"
     ]
    }
   ],
   "source": [
    "from sklearn.cluster import KMeans\n",
    "\n",
    "# we have to decide how many cluster (k) we want\n",
    "k = 2\n",
    "\n",
    "# k-means model\n",
    "kmeans_model = KMeans(n_clusters=k)\n",
    "kmeans_model.fit(X)\n",
    "\n",
    "# cluster result\n",
    "cluster_result = kmeans_model.labels_\n",
    "\n",
    "# show\n",
    "for i in range(len(target_list)):\n",
    "    print('word: {} \\t cluster: {}'.format(target_list[i], cluster_result[i]))"
   ]
  },
  {
   "cell_type": "markdown",
   "metadata": {
    "id": "QcDTL7kRYTp5"
   },
   "source": [
    "![pic6.png](./pics/pic6.png)"
   ]
  },
  {
   "cell_type": "code",
   "execution_count": 58,
   "metadata": {
    "colab": {
     "base_uri": "https://localhost:8080/"
    },
    "id": "NIMFax_uYTp5",
    "outputId": "2f2df2f8-98d2-426b-8ced-719be6a03281"
   },
   "outputs": [
    {
     "data": {
      "text/plain": [
       "array([1])"
      ]
     },
     "execution_count": 58,
     "metadata": {},
     "output_type": "execute_result"
    }
   ],
   "source": [
    "#check cluster membership\n",
    "word = 'student'\n",
    "word_vec = word2vec_model.wv[word]\n",
    "kmeans_model.predict([word_vec])"
   ]
  },
  {
   "cell_type": "code",
   "execution_count": 59,
   "metadata": {
    "colab": {
     "base_uri": "https://localhost:8080/"
    },
    "id": "vIDuLDOlYTp5",
    "outputId": "eae37f20-1de0-498d-a327-ce60d7336fb0"
   },
   "outputs": [
    {
     "data": {
      "text/plain": [
       "array([0])"
      ]
     },
     "execution_count": 59,
     "metadata": {},
     "output_type": "execute_result"
    }
   ],
   "source": [
    "#check cluster membership\n",
    "word = 'sad'\n",
    "word_vec = word2vec_model.wv[word]\n",
    "kmeans_model.predict([word_vec])"
   ]
  },
  {
   "cell_type": "markdown",
   "metadata": {
    "id": "cZOEGH3GYTp5"
   },
   "source": [
    "---\n",
    "## <a id='toc1_13_'></a>[**9. High-dimension Visualization: t-SNE and UMAP**](#toc0_)\n",
    "\n",
    "No matter if you use the Bag-of-words, TF-IDF, or Word2Vec, it's very hard to see the embedding result, because the dimension is larger than 3.  \n",
    "\n",
    "In Lab 1, we already talked about PCA, t-SNE and UMAP. We can use PCA to reduce the dimension of our data, then visualize it. However, if you dig deeper into the result, you'd find it is insufficient.\n",
    "\n",
    "Our aim will be to create a visualization similar to the one below with t-SNE:"
   ]
  },
  {
   "cell_type": "markdown",
   "metadata": {
    "id": "3-JR-rqyYTp5"
   },
   "source": [
    "![pic7.png](./pics/pic7.png)\n",
    "\n",
    "source: https://www.fabian-keller.de/research/high-dimensional-data-visualization "
   ]
  },
  {
   "cell_type": "markdown",
   "metadata": {},
   "source": [
    "And also like this for UMAP:\n",
    "\n",
    "![pic9.png](./pics/pic9.png)\n",
    "\n",
    "source: https://umap-learn.readthedocs.io/en/latest/auto_examples/plot_mnist_example.html"
   ]
  },
  {
   "cell_type": "markdown",
   "metadata": {
    "id": "tmdbJbjxYTp5"
   },
   "source": [
    "t-SNE and UMAP reference:  \n",
    "http://scikit-learn.org/stable/modules/generated/sklearn.manifold.TSNE.html \n",
    "https://umap-learn.readthedocs.io/en/latest/"
   ]
  },
  {
   "cell_type": "markdown",
   "metadata": {
    "id": "MU8eeDnGYTp5"
   },
   "source": [
    "---\n",
    "### <a id='toc1_13_1_'></a>[**9.1 Prepare visualizing target**](#toc0_)"
   ]
  },
  {
   "cell_type": "markdown",
   "metadata": {
    "id": "T9IHcP3VYTp5"
   },
   "source": [
    "Let's prepare data lists like:\n",
    "- happy words\n",
    "- angry words\n",
    "- data words\n",
    "- mining words"
   ]
  },
  {
   "cell_type": "code",
   "execution_count": 60,
   "metadata": {
    "colab": {
     "base_uri": "https://localhost:8080/"
    },
    "id": "L9il5L7pYTp5",
    "outputId": "91d18f86-d137-4771-94db-ca7542d5a8d6"
   },
   "outputs": [
    {
     "name": "stdout",
     "output_type": "stream",
     "text": [
      "happy_words:  ['happy', 'glad', 'pleased', 'ecstatic', 'overjoyed', 'thrilled']\n",
      "angry_words:  ['angry', 'irate', 'enraged', 'indignant', 'incensed', 'annoyed']\n",
      "data_words:  ['data', 'Data', 'datasets', 'dataset', 'databases', 'statistics']\n",
      "mining_words:  ['mining', 'Mining', 'mines', 'coal_mining', 'mine', 'miner']\n",
      "\n",
      "target words: \n",
      "['happy', 'glad', 'pleased', 'ecstatic', 'overjoyed', 'thrilled', 'angry', 'irate', 'enraged', 'indignant', 'incensed', 'annoyed', 'data', 'Data', 'datasets', 'dataset', 'databases', 'statistics', 'mining', 'Mining', 'mines', 'coal_mining', 'mine', 'miner']\n",
      "\n",
      "color list:\n",
      "['b', 'b', 'b', 'b', 'b', 'b', 'g', 'g', 'g', 'g', 'g', 'g', 'r', 'r', 'r', 'r', 'r', 'r', 'y', 'y', 'y', 'y', 'y', 'y']\n"
     ]
    }
   ],
   "source": [
    "word_list = ['happy', 'angry', 'data', 'mining']\n",
    "\n",
    "topn = 5\n",
    "happy_words = ['happy'] + [word_ for word_, sim_ in w2v_google_model.most_similar('happy', topn=topn)]\n",
    "angry_words = ['angry'] + [word_ for word_, sim_ in w2v_google_model.most_similar('angry', topn=topn)]        \n",
    "data_words = ['data'] + [word_ for word_, sim_ in w2v_google_model.most_similar('data', topn=topn)]        \n",
    "mining_words = ['mining'] + [word_ for word_, sim_ in w2v_google_model.most_similar('mining', topn=topn)]        \n",
    "\n",
    "print('happy_words: ', happy_words)\n",
    "print('angry_words: ', angry_words)\n",
    "print('data_words: ', data_words)\n",
    "print('mining_words: ', mining_words)\n",
    "\n",
    "target_words = happy_words + angry_words + data_words + mining_words\n",
    "print('\\ntarget words: ')\n",
    "print(target_words)\n",
    "\n",
    "print('\\ncolor list:')\n",
    "cn = topn + 1\n",
    "color = ['b'] * cn + ['g'] * cn + ['r'] * cn + ['y'] * cn\n",
    "print(color)"
   ]
  },
  {
   "cell_type": "markdown",
   "metadata": {
    "id": "zKa5LRxbYTp5"
   },
   "source": [
    "---\n",
    "### <a id='toc1_13_2_'></a>[**9.2 Plot using t-SNE and UMAP (2-dimension)**](#toc0_)"
   ]
  },
  {
   "cell_type": "code",
   "execution_count": 61,
   "metadata": {
    "colab": {
     "base_uri": "https://localhost:8080/",
     "height": 717
    },
    "id": "CJlljN2gYTp5",
    "outputId": "cdd792e6-0a15-4189-d611-02b1aa42ddb1"
   },
   "outputs": [
    {
     "data": {
      "image/png": "[encoded data removed]",
      "text/plain": [
       "<Figure size 862.5x862.5 with 1 Axes>"
      ]
     },
     "metadata": {},
     "output_type": "display_data"
    }
   ],
   "source": [
    "%matplotlib inline\n",
    "import matplotlib.pyplot as plt\n",
    "from sklearn.manifold import TSNE\n",
    "\n",
    "## w2v model\n",
    "model = w2v_google_model\n",
    "\n",
    "## prepare training word vectors\n",
    "size = 200\n",
    "target_size = len(target_words)\n",
    "all_word = list(model.index_to_key)\n",
    "word_train = target_words + all_word[:size]\n",
    "X_train = model[word_train]\n",
    "\n",
    "## t-SNE model\n",
    "tsne = TSNE(n_components=2, metric='cosine', random_state=28)\n",
    "\n",
    "## training\n",
    "X_tsne = tsne.fit_transform(X_train)\n",
    "\n",
    "## plot the result\n",
    "plt.figure(figsize=(7.5, 7.5), dpi=115)\n",
    "plt.scatter(X_tsne[:target_size, 0], X_tsne[:target_size, 1], c=color)\n",
    "for label, x, y in zip(target_words, X_tsne[:target_size, 0], X_tsne[:target_size, 1]):\n",
    "    plt.annotate(label, xy=(x,y), xytext=(0,0),  textcoords='offset points')\n",
    "plt.show()"
   ]
  },
  {
   "cell_type": "code",
   "execution_count": 62,
   "metadata": {},
   "outputs": [
    {
     "data": {
      "image/png": "[encoded data removed]",
      "text/plain": [
       "<Figure size 862.5x862.5 with 1 Axes>"
      ]
     },
     "metadata": {},
     "output_type": "display_data"
    }
   ],
   "source": [
    "import matplotlib.pyplot as plt\n",
    "import umap.umap_ as umap\n",
    "\n",
    "## w2v model\n",
    "model = w2v_google_model\n",
    "\n",
    "## prepare training word vectors\n",
    "size = 200\n",
    "target_size = len(target_words)\n",
    "all_word = list(model.index_to_key)\n",
    "word_train = target_words + all_word[:size]\n",
    "X_train = model[word_train]\n",
    "\n",
    "## UMAP model\n",
    "umap_model = umap.UMAP(n_components=2, metric='cosine', random_state=28)\n",
    "\n",
    "## training\n",
    "X_umap = umap_model.fit_transform(X_train)\n",
    "\n",
    "## plot the result\n",
    "plt.figure(figsize=(7.5, 7.5), dpi=115)\n",
    "plt.scatter(X_umap[:target_size, 0], X_umap[:target_size, 1], c=color)\n",
    "for label, x, y in zip(target_words, X_umap[:target_size, 0], X_umap[:target_size, 1]):\n",
    "    plt.annotate(label, xy=(x,y), xytext=(0,0),  textcoords='offset points')\n",
    "plt.show()\n"
   ]
  },
  {
   "cell_type": "markdown",
   "metadata": {
    "id": "2PL61rqYYTp5"
   },
   "source": [
    "---\n",
    "##### <a id='toc1_13_2_1_1_'></a>[**>>> Exercise 8 (Take home):**](#toc0_)\n",
    "\n",
    "Generate a t-SNE and UMAP visualization to show the 15 words most related to the words \"angry\", \"happy\", \"sad\", \"fear\" (60 words total). Compare the differences between both graphs."
   ]
  },
  {
   "cell_type": "code",
   "execution_count": 94,
   "metadata": {
    "id": "rvh7ymeNYTp5"
   },
   "outputs": [],
   "source": [
    "# Answer here\n"
   ]
  },
  {
   "cell_type": "markdown",
   "metadata": {
    "id": "_fF1woa8YTp5"
   },
   "source": [
    "---"
   ]
  }
 ],
 "metadata": {
  "colab": {
   "collapsed_sections": [
    "4e5eiVLOYTp5"
   ],
   "provenance": []
  },
  "kernelspec": {
   "display_name": "DM2025-Lab2-Exercise",
   "language": "python",
   "name": "python3"
  },
  "language_info": {
   "codemirror_mode": {
    "name": "ipython",
    "version": 3
   },
   "file_extension": ".py",
   "mimetype": "text/x-python",
   "name": "python",
   "nbconvert_exporter": "python",
   "pygments_lexer": "ipython3",
   "version": "3.11.0"
  },
  "varInspector": {
   "cols": {
    "lenName": 16,
    "lenType": 16,
    "lenVar": 40
   },
   "kernels_config": {
    "python": {
     "delete_cmd_postfix": "",
     "delete_cmd_prefix": "del ",
     "library": "var_list.py",
     "varRefreshCmd": "print(var_dic_list())"
    },
    "r": {
     "delete_cmd_postfix": ") ",
     "delete_cmd_prefix": "rm(",
     "library": "var_list.r",
     "varRefreshCmd": "cat(var_dic_list()) "
    }
   },
   "oldHeight": 594.85,
   "position": {
    "height": "40px",
    "left": "723px",
    "right": "20px",
    "top": "80px",
    "width": "250px"
   },
   "types_to_exclude": [
    "module",
    "function",
    "builtin_function_or_method",
    "instance",
    "_Feature"
   ],
   "varInspector_section_display": "none",
   "window_display": true
  }
 },
 "nbformat": 4,
 "nbformat_minor": 1
}
